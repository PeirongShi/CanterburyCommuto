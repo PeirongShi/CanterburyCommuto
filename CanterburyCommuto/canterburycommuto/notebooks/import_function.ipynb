{
 "cells": [
  {
   "cell_type": "code",
   "execution_count": 2,
   "id": "8edfab53",
   "metadata": {},
   "outputs": [],
   "source": [
    "import sys\n",
    "sys.path.append(\"..\")"
   ]
  },
  {
   "cell_type": "code",
   "execution_count": 3,
   "id": "a3607edc",
   "metadata": {},
   "outputs": [],
   "source": [
    "import api_manager"
   ]
  },
  {
   "cell_type": "code",
   "execution_count": null,
   "id": "19240262",
   "metadata": {},
   "outputs": [],
   "source": [
    "api_manager.APIManager"
   ]
  },
  {
   "cell_type": "code",
   "execution_count": null,
   "id": "f37d36f8",
   "metadata": {},
   "outputs": [],
   "source": [
    "import CanterburyCommuto"
   ]
  }
 ],
 "metadata": {
  "kernelspec": {
   "display_name": "base",
   "language": "python",
   "name": "python3"
  },
  "language_info": {
   "codemirror_mode": {
    "name": "ipython",
    "version": 3
   },
   "file_extension": ".py",
   "mimetype": "text/x-python",
   "name": "python",
   "nbconvert_exporter": "python",
   "pygments_lexer": "ipython3",
   "version": "3.12.4"
  }
 },
 "nbformat": 4,
 "nbformat_minor": 5
}
