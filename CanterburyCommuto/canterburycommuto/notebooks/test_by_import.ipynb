{
 "cells": [
  {
   "cell_type": "code",
   "execution_count": 1,
   "id": "8edfab53",
   "metadata": {},
   "outputs": [],
   "source": [
    "import sys\n",
    "import os\n",
    "sys.path.append(os.path.abspath(\"..\"))  # go up from /notebooks to /canterburycommuto\n"
   ]
  },
  {
   "cell_type": "markdown",
   "id": "30fc0e79",
   "metadata": {},
   "source": [
    "Note: During local development and testing in Jupyter notebooks, I temporarily removed the leading dot (.) in relative imports (e.g., from PlotMaps import ...) to simplify direct imports from within the notebook environment. This adjustment is only for convenience in interactive sessions.\n",
    "\n",
    "In the published version of the package (intended for installation and command-line use), all internal imports are properly structured using relative paths (e.g., from .PlotMaps import ...) to ensure compatibility when used as a Python package or CLI tool."
   ]
  },
  {
   "cell_type": "code",
   "execution_count": 2,
   "id": "f37d36f8",
   "metadata": {},
   "outputs": [],
   "source": [
    "from CanterburyCommuto import Overlap_Function"
   ]
  },
  {
   "cell_type": "markdown",
   "id": "b3307e75",
   "metadata": {},
   "source": [
    "### Common Node Method with Commuting Information Before and After the Overlap "
   ]
  },
  {
   "cell_type": "code",
   "execution_count": 3,
   "id": "49e269eb",
   "metadata": {},
   "outputs": [
    {
     "name": "stdout",
     "output_type": "stream",
     "text": [
      "[DEBUG] Checking for config.yaml in: c:\\Users\\HUAWEI\\CanterburyCommuto\\CanterburyCommuto\\canterburycommuto\\notebooks\\config.yaml\n",
      "[DEBUG] Checking for config.yaml in: C:\\Users\\HUAWEI\\.canterburycommuto\\config.yaml\n",
      "[DEBUG] Checking for config.yaml in: c:\\Users\\HUAWEI\\CanterburyCommuto\\CanterburyCommuto\\canterburycommuto\\config.yaml\n",
      "\n",
      "[INFO] Estimated number of API requests: 80\n",
      "[INFO] Estimated cost: $0.40\n",
      "[NOTICE] Actual cost may be higher or lower depending on Google’s pricing tiers and route pair complexity.\n",
      "\n",
      "[PROCESSING] Proceeding with route analysis...\n",
      "\n",
      "Map saved to: c:\\Users\\HUAWEI\\CanterburyCommuto\\CanterburyCommuto\\canterburycommuto\\notebooks\\results\\routes_map-2025-06-11_11-28-17_90140.html\n"
     ]
    },
    {
     "data": {
      "text/html": [
       "\n",
       "        <iframe\n",
       "            width=\"100%\"\n",
       "            height=\"500px\"\n",
       "            src=\"results\\routes_map-2025-06-11_11-28-17_90140.html\"\n",
       "            frameborder=\"0\"\n",
       "            allowfullscreen\n",
       "            \n",
       "        ></iframe>\n",
       "        "
      ],
      "text/plain": [
       "<IPython.lib.display.IFrame at 0x22db37ab800>"
      ]
     },
     "metadata": {},
     "output_type": "display_data"
    },
    {
     "name": "stdout",
     "output_type": "stream",
     "text": [
      "Map saved to: c:\\Users\\HUAWEI\\CanterburyCommuto\\CanterburyCommuto\\canterburycommuto\\notebooks\\results\\routes_map-2025-06-11_11-28-17_89308.html\n"
     ]
    },
    {
     "data": {
      "text/html": [
       "\n",
       "        <iframe\n",
       "            width=\"100%\"\n",
       "            height=\"500px\"\n",
       "            src=\"results\\routes_map-2025-06-11_11-28-17_89308.html\"\n",
       "            frameborder=\"0\"\n",
       "            allowfullscreen\n",
       "            \n",
       "        ></iframe>\n",
       "        "
      ],
      "text/plain": [
       "<IPython.lib.display.IFrame at 0x22db3775100>"
      ]
     },
     "metadata": {},
     "output_type": "display_data"
    },
    {
     "name": "stdout",
     "output_type": "stream",
     "text": [
      "Map saved to: c:\\Users\\HUAWEI\\CanterburyCommuto\\CanterburyCommuto\\canterburycommuto\\notebooks\\results\\routes_map-2025-06-11_11-28-18_97902.html\n",
      "Error fetching directions: NOT_FOUND\n"
     ]
    },
    {
     "data": {
      "text/html": [
       "\n",
       "        <iframe\n",
       "            width=\"100%\"\n",
       "            height=\"500px\"\n",
       "            src=\"results\\routes_map-2025-06-11_11-28-18_97902.html\"\n",
       "            frameborder=\"0\"\n",
       "            allowfullscreen\n",
       "            \n",
       "        ></iframe>\n",
       "        "
      ],
      "text/plain": [
       "<IPython.lib.display.IFrame at 0x22db37dfb90>"
      ]
     },
     "metadata": {},
     "output_type": "display_data"
    },
    {
     "name": "stdout",
     "output_type": "stream",
     "text": [
      "Error fetching directions: NOT_FOUND\n",
      "Error fetching directions: NOT_FOUND\n",
      "Map saved to: c:\\Users\\HUAWEI\\CanterburyCommuto\\CanterburyCommuto\\canterburycommuto\\notebooks\\results\\routes_map-2025-06-11_11-28-18_50514.html\n"
     ]
    },
    {
     "data": {
      "text/html": [
       "\n",
       "        <iframe\n",
       "            width=\"100%\"\n",
       "            height=\"500px\"\n",
       "            src=\"results\\routes_map-2025-06-11_11-28-18_50514.html\"\n",
       "            frameborder=\"0\"\n",
       "            allowfullscreen\n",
       "            \n",
       "        ></iframe>\n",
       "        "
      ],
      "text/plain": [
       "<IPython.lib.display.IFrame at 0x22db4844b60>"
      ]
     },
     "metadata": {},
     "output_type": "display_data"
    },
    {
     "name": "stdout",
     "output_type": "stream",
     "text": [
      "Error fetching directions: NOT_FOUND\n",
      "Map saved to: c:\\Users\\HUAWEI\\CanterburyCommuto\\CanterburyCommuto\\canterburycommuto\\notebooks\\results\\routes_map-2025-06-11_11-28-18_72491.html\n",
      "Map saved to: c:\\Users\\HUAWEI\\CanterburyCommuto\\CanterburyCommuto\\canterburycommuto\\notebooks\\results\\routes_map-2025-06-11_11-28-19_48468.html\n",
      "Map saved to: c:\\Users\\HUAWEI\\CanterburyCommuto\\CanterburyCommuto\\canterburycommuto\\notebooks\\results\\routes_map-2025-06-11_11-28-19_52490.html\n"
     ]
    },
    {
     "data": {
      "text/html": [
       "\n",
       "        <iframe\n",
       "            width=\"100%\"\n",
       "            height=\"500px\"\n",
       "            src=\"results\\routes_map-2025-06-11_11-28-18_72491.html\"\n",
       "            frameborder=\"0\"\n",
       "            allowfullscreen\n",
       "            \n",
       "        ></iframe>\n",
       "        "
      ],
      "text/plain": [
       "<IPython.lib.display.IFrame at 0x22db339d070>"
      ]
     },
     "metadata": {},
     "output_type": "display_data"
    },
    {
     "data": {
      "text/html": [
       "\n",
       "        <iframe\n",
       "            width=\"100%\"\n",
       "            height=\"500px\"\n",
       "            src=\"results\\routes_map-2025-06-11_11-28-19_48468.html\"\n",
       "            frameborder=\"0\"\n",
       "            allowfullscreen\n",
       "            \n",
       "        ></iframe>\n",
       "        "
      ],
      "text/plain": [
       "<IPython.lib.display.IFrame at 0x22db48883b0>"
      ]
     },
     "metadata": {},
     "output_type": "display_data"
    },
    {
     "name": "stdout",
     "output_type": "stream",
     "text": [
      "Map saved to: c:\\Users\\HUAWEI\\CanterburyCommuto\\CanterburyCommuto\\canterburycommuto\\notebooks\\results\\routes_map-2025-06-11_11-28-19_26269.html\n"
     ]
    },
    {
     "data": {
      "text/html": [
       "\n",
       "        <iframe\n",
       "            width=\"100%\"\n",
       "            height=\"500px\"\n",
       "            src=\"results\\routes_map-2025-06-11_11-28-19_52490.html\"\n",
       "            frameborder=\"0\"\n",
       "            allowfullscreen\n",
       "            \n",
       "        ></iframe>\n",
       "        "
      ],
      "text/plain": [
       "<IPython.lib.display.IFrame at 0x22db4888530>"
      ]
     },
     "metadata": {},
     "output_type": "display_data"
    },
    {
     "data": {
      "text/html": [
       "\n",
       "        <iframe\n",
       "            width=\"100%\"\n",
       "            height=\"500px\"\n",
       "            src=\"results\\routes_map-2025-06-11_11-28-19_26269.html\"\n",
       "            frameborder=\"0\"\n",
       "            allowfullscreen\n",
       "            \n",
       "        ></iframe>\n",
       "        "
      ],
      "text/plain": [
       "<IPython.lib.display.IFrame at 0x22db4844a10>"
      ]
     },
     "metadata": {},
     "output_type": "display_data"
    },
    {
     "name": "stdout",
     "output_type": "stream",
     "text": [
      "Map saved to: c:\\Users\\HUAWEI\\CanterburyCommuto\\CanterburyCommuto\\canterburycommuto\\notebooks\\results\\routes_map-2025-06-11_11-28-19_31744.html\n"
     ]
    },
    {
     "data": {
      "text/html": [
       "\n",
       "        <iframe\n",
       "            width=\"100%\"\n",
       "            height=\"500px\"\n",
       "            src=\"results\\routes_map-2025-06-11_11-28-19_31744.html\"\n",
       "            frameborder=\"0\"\n",
       "            allowfullscreen\n",
       "            \n",
       "        ></iframe>\n",
       "        "
      ],
      "text/plain": [
       "<IPython.lib.display.IFrame at 0x22db4844a10>"
      ]
     },
     "metadata": {},
     "output_type": "display_data"
    },
    {
     "name": "stdout",
     "output_type": "stream",
     "text": [
      "Map saved to: c:\\Users\\HUAWEI\\CanterburyCommuto\\CanterburyCommuto\\canterburycommuto\\notebooks\\results\\routes_map-2025-06-11_11-28-19_75604.html\n"
     ]
    },
    {
     "data": {
      "text/html": [
       "\n",
       "        <iframe\n",
       "            width=\"100%\"\n",
       "            height=\"500px\"\n",
       "            src=\"results\\routes_map-2025-06-11_11-28-19_75604.html\"\n",
       "            frameborder=\"0\"\n",
       "            allowfullscreen\n",
       "            \n",
       "        ></iframe>\n",
       "        "
      ],
      "text/plain": [
       "<IPython.lib.display.IFrame at 0x22db48be090>"
      ]
     },
     "metadata": {},
     "output_type": "display_data"
    },
    {
     "name": "stdout",
     "output_type": "stream",
     "text": [
      "Log file saved to: c:\\Users\\HUAWEI\\CanterburyCommuto\\CanterburyCommuto\\canterburycommuto\\notebooks\\results\\Apple1.log\n"
     ]
    }
   ],
   "source": [
    "Overlap_Function(\n",
    "        \"origin_destination_test_ID.csv\",\n",
    "        None,\n",
    "        \"home_A_latitude\",\"home_A_longitude\",\"work_A_latitude\",\"work_A_longitude\",\"home_B_latitude\",\"home_B_longitude\",\"work_B_latitude\",\"work_B_longitude\", \"ID\",\n",
    "        50, 100, 100, \"no\", \"yes\",\n",
    "        output_file = \"Apple1\", skip_invalid=True, save_api_info=True\n",
    "    )"
   ]
  },
  {
   "cell_type": "markdown",
   "id": "f0f2f8c6",
   "metadata": {},
   "source": [
    "### Common Node Method (only Overlap Information)"
   ]
  },
  {
   "cell_type": "code",
   "execution_count": 4,
   "id": "c8ee5a09",
   "metadata": {},
   "outputs": [
    {
     "name": "stdout",
     "output_type": "stream",
     "text": [
      "[DEBUG] Checking for config.yaml in: c:\\Users\\HUAWEI\\CanterburyCommuto\\CanterburyCommuto\\canterburycommuto\\notebooks\\config.yaml\n",
      "[DEBUG] Checking for config.yaml in: C:\\Users\\HUAWEI\\.canterburycommuto\\config.yaml\n",
      "[DEBUG] Checking for config.yaml in: c:\\Users\\HUAWEI\\CanterburyCommuto\\CanterburyCommuto\\canterburycommuto\\config.yaml\n",
      "\n",
      "[INFO] Estimated number of API requests: 36\n",
      "[INFO] Estimated cost: $0.18\n",
      "[NOTICE] Actual cost may be higher or lower depending on Google’s pricing tiers and route pair complexity.\n",
      "\n",
      "[PROCESSING] Proceeding with route analysis...\n",
      "\n",
      "Map saved to: c:\\Users\\HUAWEI\\CanterburyCommuto\\CanterburyCommuto\\canterburycommuto\\notebooks\\results\\routes_map-2025-06-11_11-28-21_61136.html\n",
      "Map saved to: c:\\Users\\HUAWEI\\CanterburyCommuto\\CanterburyCommuto\\canterburycommuto\\notebooks\\results\\routes_map-2025-06-11_11-28-21_36468.html\n"
     ]
    },
    {
     "data": {
      "text/html": [
       "\n",
       "        <iframe\n",
       "            width=\"100%\"\n",
       "            height=\"500px\"\n",
       "            src=\"results\\routes_map-2025-06-11_11-28-21_61136.html\"\n",
       "            frameborder=\"0\"\n",
       "            allowfullscreen\n",
       "            \n",
       "        ></iframe>\n",
       "        "
      ],
      "text/plain": [
       "<IPython.lib.display.IFrame at 0x22db3777e90>"
      ]
     },
     "metadata": {},
     "output_type": "display_data"
    },
    {
     "data": {
      "text/html": [
       "\n",
       "        <iframe\n",
       "            width=\"100%\"\n",
       "            height=\"500px\"\n",
       "            src=\"results\\routes_map-2025-06-11_11-28-21_36468.html\"\n",
       "            frameborder=\"0\"\n",
       "            allowfullscreen\n",
       "            \n",
       "        ></iframe>\n",
       "        "
      ],
      "text/plain": [
       "<IPython.lib.display.IFrame at 0x22db35cf2f0>"
      ]
     },
     "metadata": {},
     "output_type": "display_data"
    },
    {
     "name": "stdout",
     "output_type": "stream",
     "text": [
      "Map saved to: c:\\Users\\HUAWEI\\CanterburyCommuto\\CanterburyCommuto\\canterburycommuto\\notebooks\\results\\routes_map-2025-06-11_11-28-22_64344.html\n"
     ]
    },
    {
     "data": {
      "text/html": [
       "\n",
       "        <iframe\n",
       "            width=\"100%\"\n",
       "            height=\"500px\"\n",
       "            src=\"results\\routes_map-2025-06-11_11-28-22_64344.html\"\n",
       "            frameborder=\"0\"\n",
       "            allowfullscreen\n",
       "            \n",
       "        ></iframe>\n",
       "        "
      ],
      "text/plain": [
       "<IPython.lib.display.IFrame at 0x22db3673fb0>"
      ]
     },
     "metadata": {},
     "output_type": "display_data"
    },
    {
     "name": "stdout",
     "output_type": "stream",
     "text": [
      "Map saved to: c:\\Users\\HUAWEI\\CanterburyCommuto\\CanterburyCommuto\\canterburycommuto\\notebooks\\results\\routes_map-2025-06-11_11-28-22_59938.html\n"
     ]
    },
    {
     "data": {
      "text/html": [
       "\n",
       "        <iframe\n",
       "            width=\"100%\"\n",
       "            height=\"500px\"\n",
       "            src=\"results\\routes_map-2025-06-11_11-28-22_59938.html\"\n",
       "            frameborder=\"0\"\n",
       "            allowfullscreen\n",
       "            \n",
       "        ></iframe>\n",
       "        "
      ],
      "text/plain": [
       "<IPython.lib.display.IFrame at 0x22db3671df0>"
      ]
     },
     "metadata": {},
     "output_type": "display_data"
    },
    {
     "name": "stdout",
     "output_type": "stream",
     "text": [
      "Map saved to: c:\\Users\\HUAWEI\\CanterburyCommuto\\CanterburyCommuto\\canterburycommuto\\notebooks\\results\\routes_map-2025-06-11_11-28-22_98672.html\n"
     ]
    },
    {
     "data": {
      "text/html": [
       "\n",
       "        <iframe\n",
       "            width=\"100%\"\n",
       "            height=\"500px\"\n",
       "            src=\"results\\routes_map-2025-06-11_11-28-22_98672.html\"\n",
       "            frameborder=\"0\"\n",
       "            allowfullscreen\n",
       "            \n",
       "        ></iframe>\n",
       "        "
      ],
      "text/plain": [
       "<IPython.lib.display.IFrame at 0x22db3670d70>"
      ]
     },
     "metadata": {},
     "output_type": "display_data"
    },
    {
     "name": "stdout",
     "output_type": "stream",
     "text": [
      "Map saved to: c:\\Users\\HUAWEI\\CanterburyCommuto\\CanterburyCommuto\\canterburycommuto\\notebooks\\results\\routes_map-2025-06-11_11-28-22_92367.html\n"
     ]
    },
    {
     "data": {
      "text/html": [
       "\n",
       "        <iframe\n",
       "            width=\"100%\"\n",
       "            height=\"500px\"\n",
       "            src=\"results\\routes_map-2025-06-11_11-28-22_92367.html\"\n",
       "            frameborder=\"0\"\n",
       "            allowfullscreen\n",
       "            \n",
       "        ></iframe>\n",
       "        "
      ],
      "text/plain": [
       "<IPython.lib.display.IFrame at 0x22db48bf620>"
      ]
     },
     "metadata": {},
     "output_type": "display_data"
    },
    {
     "name": "stdout",
     "output_type": "stream",
     "text": [
      "Error fetching directions: NOT_FOUND\n",
      "Map saved to: c:\\Users\\HUAWEI\\CanterburyCommuto\\CanterburyCommuto\\canterburycommuto\\notebooks\\results\\routes_map-2025-06-11_11-28-22_80232.html\n"
     ]
    },
    {
     "data": {
      "text/html": [
       "\n",
       "        <iframe\n",
       "            width=\"100%\"\n",
       "            height=\"500px\"\n",
       "            src=\"results\\routes_map-2025-06-11_11-28-22_80232.html\"\n",
       "            frameborder=\"0\"\n",
       "            allowfullscreen\n",
       "            \n",
       "        ></iframe>\n",
       "        "
      ],
      "text/plain": [
       "<IPython.lib.display.IFrame at 0x22db3671dc0>"
      ]
     },
     "metadata": {},
     "output_type": "display_data"
    },
    {
     "name": "stdout",
     "output_type": "stream",
     "text": [
      "Map saved to: c:\\Users\\HUAWEI\\CanterburyCommuto\\CanterburyCommuto\\canterburycommuto\\notebooks\\results\\routes_map-2025-06-11_11-28-22_91789.html\n",
      "Map saved to: c:\\Users\\HUAWEI\\CanterburyCommuto\\CanterburyCommuto\\canterburycommuto\\notebooks\\results\\routes_map-2025-06-11_11-28-22_32916.html\n"
     ]
    },
    {
     "data": {
      "text/html": [
       "\n",
       "        <iframe\n",
       "            width=\"100%\"\n",
       "            height=\"500px\"\n",
       "            src=\"results\\routes_map-2025-06-11_11-28-22_91789.html\"\n",
       "            frameborder=\"0\"\n",
       "            allowfullscreen\n",
       "            \n",
       "        ></iframe>\n",
       "        "
      ],
      "text/plain": [
       "<IPython.lib.display.IFrame at 0x22db37f5c10>"
      ]
     },
     "metadata": {},
     "output_type": "display_data"
    },
    {
     "data": {
      "text/html": [
       "\n",
       "        <iframe\n",
       "            width=\"100%\"\n",
       "            height=\"500px\"\n",
       "            src=\"results\\routes_map-2025-06-11_11-28-22_32916.html\"\n",
       "            frameborder=\"0\"\n",
       "            allowfullscreen\n",
       "            \n",
       "        ></iframe>\n",
       "        "
      ],
      "text/plain": [
       "<IPython.lib.display.IFrame at 0x22db48beae0>"
      ]
     },
     "metadata": {},
     "output_type": "display_data"
    },
    {
     "name": "stdout",
     "output_type": "stream",
     "text": [
      "Map saved to: c:\\Users\\HUAWEI\\CanterburyCommuto\\CanterburyCommuto\\canterburycommuto\\notebooks\\results\\routes_map-2025-06-11_11-28-22_21409.html\n"
     ]
    },
    {
     "data": {
      "text/html": [
       "\n",
       "        <iframe\n",
       "            width=\"100%\"\n",
       "            height=\"500px\"\n",
       "            src=\"results\\routes_map-2025-06-11_11-28-22_21409.html\"\n",
       "            frameborder=\"0\"\n",
       "            allowfullscreen\n",
       "            \n",
       "        ></iframe>\n",
       "        "
      ],
      "text/plain": [
       "<IPython.lib.display.IFrame at 0x22db37f7dd0>"
      ]
     },
     "metadata": {},
     "output_type": "display_data"
    },
    {
     "name": "stdout",
     "output_type": "stream",
     "text": [
      "Log file saved to: c:\\Users\\HUAWEI\\CanterburyCommuto\\CanterburyCommuto\\canterburycommuto\\notebooks\\results\\banana.log\n"
     ]
    }
   ],
   "source": [
    "Overlap_Function(\n",
    "        \"origin_destination_test.csv\",\n",
    "        None,\n",
    "        \"home_A_latitude\",\"home_A_longitude\",\"work_A_latitude\",\"work_A_longitude\",\"home_B_latitude\",\"home_B_longitude\",\"work_B_latitude\",\"work_B_longitude\", None,\n",
    "        50, 100, 100, \"no\", \"no\",\n",
    "        output_file= \"banana\", skip_invalid=True, save_api_info=True\n",
    "    )"
   ]
  },
  {
   "cell_type": "markdown",
   "id": "a6c48da9",
   "metadata": {},
   "source": [
    "### Rectangle Approximation Method with Commuting Information Before and After the Overlap"
   ]
  },
  {
   "cell_type": "code",
   "execution_count": 5,
   "id": "5c5161a7",
   "metadata": {},
   "outputs": [
    {
     "name": "stdout",
     "output_type": "stream",
     "text": [
      "[DEBUG] Checking for config.yaml in: c:\\Users\\HUAWEI\\CanterburyCommuto\\CanterburyCommuto\\canterburycommuto\\notebooks\\config.yaml\n",
      "[DEBUG] Checking for config.yaml in: C:\\Users\\HUAWEI\\.canterburycommuto\\config.yaml\n",
      "[DEBUG] Checking for config.yaml in: c:\\Users\\HUAWEI\\CanterburyCommuto\\CanterburyCommuto\\canterburycommuto\\config.yaml\n",
      "\n",
      "[INFO] Estimated number of API requests: 80\n",
      "[INFO] Estimated cost: $0.40\n",
      "[NOTICE] Actual cost may be higher or lower depending on Google’s pricing tiers and route pair complexity.\n",
      "\n",
      "[CANCELLED] Operation aborted by the user.\n"
     ]
    }
   ],
   "source": [
    "Overlap_Function(\n",
    "    \"origin_destination_test.csv\",\n",
    "    None,\n",
    "    \"home_A_latitude\",\"home_A_longitude\",\"work_A_latitude\",\"work_A_longitude\",\"home_B_latitude\",\"home_B_longitude\",\"work_B_latitude\",\"work_B_longitude\", None,\n",
    "    50, 100, 100, \"yes\", \"yes\",\n",
    "    skip_invalid=True, save_api_info=True\n",
    ")"
   ]
  },
  {
   "cell_type": "markdown",
   "id": "9e78af94",
   "metadata": {},
   "source": [
    "### Rectangle Approximation Method (only Overlap Information)"
   ]
  },
  {
   "cell_type": "code",
   "execution_count": 6,
   "id": "5c2431af",
   "metadata": {},
   "outputs": [
    {
     "name": "stdout",
     "output_type": "stream",
     "text": [
      "[DEBUG] Checking for config.yaml in: c:\\Users\\HUAWEI\\CanterburyCommuto\\CanterburyCommuto\\canterburycommuto\\notebooks\\config.yaml\n",
      "[DEBUG] Checking for config.yaml in: C:\\Users\\HUAWEI\\.canterburycommuto\\config.yaml\n",
      "[DEBUG] Checking for config.yaml in: c:\\Users\\HUAWEI\\CanterburyCommuto\\CanterburyCommuto\\canterburycommuto\\config.yaml\n",
      "\n",
      "[INFO] Estimated number of API requests: 47\n",
      "[INFO] Estimated cost: $0.23\n",
      "[NOTICE] Actual cost may be higher or lower depending on Google’s pricing tiers and route pair complexity.\n",
      "\n",
      "[PROCESSING] Proceeding with route analysis...\n",
      "\n",
      "Map saved to: c:\\Users\\HUAWEI\\CanterburyCommuto\\CanterburyCommuto\\canterburycommuto\\notebooks\\results\\routes_map-2025-06-11_11-28-34_29403.html\n"
     ]
    },
    {
     "data": {
      "text/html": [
       "\n",
       "        <iframe\n",
       "            width=\"100%\"\n",
       "            height=\"500px\"\n",
       "            src=\"results\\routes_map-2025-06-11_11-28-34_29403.html\"\n",
       "            frameborder=\"0\"\n",
       "            allowfullscreen\n",
       "            \n",
       "        ></iframe>\n",
       "        "
      ],
      "text/plain": [
       "<IPython.lib.display.IFrame at 0x22db4889760>"
      ]
     },
     "metadata": {},
     "output_type": "display_data"
    },
    {
     "name": "stdout",
     "output_type": "stream",
     "text": [
      "Map saved to: c:\\Users\\HUAWEI\\CanterburyCommuto\\CanterburyCommuto\\canterburycommuto\\notebooks\\results\\routes_map-2025-06-11_11-28-34_33081.html\n"
     ]
    },
    {
     "data": {
      "text/html": [
       "\n",
       "        <iframe\n",
       "            width=\"100%\"\n",
       "            height=\"500px\"\n",
       "            src=\"results\\routes_map-2025-06-11_11-28-34_33081.html\"\n",
       "            frameborder=\"0\"\n",
       "            allowfullscreen\n",
       "            \n",
       "        ></iframe>\n",
       "        "
      ],
      "text/plain": [
       "<IPython.lib.display.IFrame at 0x22db37dee10>"
      ]
     },
     "metadata": {},
     "output_type": "display_data"
    },
    {
     "name": "stdout",
     "output_type": "stream",
     "text": [
      "Map saved to: c:\\Users\\HUAWEI\\CanterburyCommuto\\CanterburyCommuto\\canterburycommuto\\notebooks\\results\\routes_map-2025-06-11_11-28-34_43625.htmlMap saved to: c:\\Users\\HUAWEI\\CanterburyCommuto\\CanterburyCommuto\\canterburycommuto\\notebooks\\results\\routes_map-2025-06-11_11-28-34_10011.html\n",
      "\n"
     ]
    },
    {
     "data": {
      "text/html": [
       "\n",
       "        <iframe\n",
       "            width=\"100%\"\n",
       "            height=\"500px\"\n",
       "            src=\"results\\routes_map-2025-06-11_11-28-34_43625.html\"\n",
       "            frameborder=\"0\"\n",
       "            allowfullscreen\n",
       "            \n",
       "        ></iframe>\n",
       "        "
      ],
      "text/plain": [
       "<IPython.lib.display.IFrame at 0x22db37dec60>"
      ]
     },
     "metadata": {},
     "output_type": "display_data"
    },
    {
     "data": {
      "text/html": [
       "\n",
       "        <iframe\n",
       "            width=\"100%\"\n",
       "            height=\"500px\"\n",
       "            src=\"results\\routes_map-2025-06-11_11-28-34_10011.html\"\n",
       "            frameborder=\"0\"\n",
       "            allowfullscreen\n",
       "            \n",
       "        ></iframe>\n",
       "        "
      ],
      "text/plain": [
       "<IPython.lib.display.IFrame at 0x22db37dd130>"
      ]
     },
     "metadata": {},
     "output_type": "display_data"
    },
    {
     "name": "stdout",
     "output_type": "stream",
     "text": [
      "Error fetching directions: NOT_FOUND\n",
      "Map saved to: c:\\Users\\HUAWEI\\CanterburyCommuto\\CanterburyCommuto\\canterburycommuto\\notebooks\\results\\routes_map-2025-06-11_11-28-34_90537.html\n"
     ]
    },
    {
     "data": {
      "text/html": [
       "\n",
       "        <iframe\n",
       "            width=\"100%\"\n",
       "            height=\"500px\"\n",
       "            src=\"results\\routes_map-2025-06-11_11-28-34_90537.html\"\n",
       "            frameborder=\"0\"\n",
       "            allowfullscreen\n",
       "            \n",
       "        ></iframe>\n",
       "        "
      ],
      "text/plain": [
       "<IPython.lib.display.IFrame at 0x22db48158b0>"
      ]
     },
     "metadata": {},
     "output_type": "display_data"
    },
    {
     "name": "stdout",
     "output_type": "stream",
     "text": [
      "Map saved to: c:\\Users\\HUAWEI\\CanterburyCommuto\\CanterburyCommuto\\canterburycommuto\\notebooks\\results\\routes_map-2025-06-11_11-28-34_19196.html\n"
     ]
    },
    {
     "data": {
      "text/html": [
       "\n",
       "        <iframe\n",
       "            width=\"100%\"\n",
       "            height=\"500px\"\n",
       "            src=\"results\\routes_map-2025-06-11_11-28-34_19196.html\"\n",
       "            frameborder=\"0\"\n",
       "            allowfullscreen\n",
       "            \n",
       "        ></iframe>\n",
       "        "
      ],
      "text/plain": [
       "<IPython.lib.display.IFrame at 0x22db48173b0>"
      ]
     },
     "metadata": {},
     "output_type": "display_data"
    },
    {
     "name": "stdout",
     "output_type": "stream",
     "text": [
      "Map saved to: c:\\Users\\HUAWEI\\CanterburyCommuto\\CanterburyCommuto\\canterburycommuto\\notebooks\\results\\routes_map-2025-06-11_11-28-34_40938.html\n"
     ]
    },
    {
     "data": {
      "text/html": [
       "\n",
       "        <iframe\n",
       "            width=\"100%\"\n",
       "            height=\"500px\"\n",
       "            src=\"results\\routes_map-2025-06-11_11-28-34_40938.html\"\n",
       "            frameborder=\"0\"\n",
       "            allowfullscreen\n",
       "            \n",
       "        ></iframe>\n",
       "        "
      ],
      "text/plain": [
       "<IPython.lib.display.IFrame at 0x22db4817bf0>"
      ]
     },
     "metadata": {},
     "output_type": "display_data"
    },
    {
     "name": "stdout",
     "output_type": "stream",
     "text": [
      "Map saved to: c:\\Users\\HUAWEI\\CanterburyCommuto\\CanterburyCommuto\\canterburycommuto\\notebooks\\results\\routes_map-2025-06-11_11-28-34_45720.html\n"
     ]
    },
    {
     "data": {
      "text/html": [
       "\n",
       "        <iframe\n",
       "            width=\"100%\"\n",
       "            height=\"500px\"\n",
       "            src=\"results\\routes_map-2025-06-11_11-28-34_45720.html\"\n",
       "            frameborder=\"0\"\n",
       "            allowfullscreen\n",
       "            \n",
       "        ></iframe>\n",
       "        "
      ],
      "text/plain": [
       "<IPython.lib.display.IFrame at 0x22db48178f0>"
      ]
     },
     "metadata": {},
     "output_type": "display_data"
    },
    {
     "name": "stdout",
     "output_type": "stream",
     "text": [
      "Map saved to: c:\\Users\\HUAWEI\\CanterburyCommuto\\CanterburyCommuto\\canterburycommuto\\notebooks\\results\\routes_map-2025-06-11_11-28-34_26938.html\n"
     ]
    },
    {
     "data": {
      "text/html": [
       "\n",
       "        <iframe\n",
       "            width=\"100%\"\n",
       "            height=\"500px\"\n",
       "            src=\"results\\routes_map-2025-06-11_11-28-34_26938.html\"\n",
       "            frameborder=\"0\"\n",
       "            allowfullscreen\n",
       "            \n",
       "        ></iframe>\n",
       "        "
      ],
      "text/plain": [
       "<IPython.lib.display.IFrame at 0x22db37752e0>"
      ]
     },
     "metadata": {},
     "output_type": "display_data"
    },
    {
     "name": "stdout",
     "output_type": "stream",
     "text": [
      "Map saved to: c:\\Users\\HUAWEI\\CanterburyCommuto\\CanterburyCommuto\\canterburycommuto\\notebooks\\results\\routes_map-2025-06-11_11-28-34_18599.html\n"
     ]
    },
    {
     "data": {
      "text/html": [
       "\n",
       "        <iframe\n",
       "            width=\"100%\"\n",
       "            height=\"500px\"\n",
       "            src=\"results\\routes_map-2025-06-11_11-28-34_18599.html\"\n",
       "            frameborder=\"0\"\n",
       "            allowfullscreen\n",
       "            \n",
       "        ></iframe>\n",
       "        "
      ],
      "text/plain": [
       "<IPython.lib.display.IFrame at 0x22db4816d20>"
      ]
     },
     "metadata": {},
     "output_type": "display_data"
    },
    {
     "name": "stdout",
     "output_type": "stream",
     "text": [
      "Log file saved to: c:\\Users\\HUAWEI\\CanterburyCommuto\\CanterburyCommuto\\canterburycommuto\\notebooks\\results\\grape.log\n"
     ]
    }
   ],
   "source": [
    "Overlap_Function(\n",
    "    \"origin_destination_test_ID.csv\", \n",
    "    None,\n",
    "    \"home_A_latitude\",\"home_A_longitude\",\"work_A_latitude\",\"work_A_longitude\",\"home_B_latitude\",\"home_B_longitude\",\"work_B_latitude\",\"work_B_longitude\", \"ID\", \n",
    "    50, 100, 100, \"yes\", \"no\", \n",
    "    output_file = \"grape\", skip_invalid=True, save_api_info=True\n",
    "    )"
   ]
  },
  {
   "cell_type": "markdown",
   "id": "905edf52",
   "metadata": {},
   "source": [
    "### Buffer Area Ratio Method"
   ]
  },
  {
   "cell_type": "code",
   "execution_count": null,
   "id": "46cf024c",
   "metadata": {},
   "outputs": [
    {
     "name": "stdout",
     "output_type": "stream",
     "text": [
      "[DEBUG] Checking for config.yaml in: c:\\Users\\HUAWEI\\CanterburyCommuto\\CanterburyCommuto\\canterburycommuto\\notebooks\\config.yaml\n",
      "[DEBUG] Checking for config.yaml in: C:\\Users\\HUAWEI\\.canterburycommuto\\config.yaml\n",
      "[DEBUG] Checking for config.yaml in: c:\\Users\\HUAWEI\\CanterburyCommuto\\CanterburyCommuto\\canterburycommuto\\config.yaml\n",
      "\n",
      "[INFO] Estimated number of API requests: 36\n",
      "[INFO] Estimated cost: $0.18\n",
      "[NOTICE] Actual cost may be higher or lower depending on Google’s pricing tiers and route pair complexity.\n",
      "\n",
      "[PROCESSING] Proceeding with route analysis...\n",
      "\n",
      "Map saved to: c:\\Users\\HUAWEI\\CanterburyCommuto\\CanterburyCommuto\\canterburycommuto\\notebooks\\results\\routes_map-2025-06-11_11-28-37_11626.html\n"
     ]
    },
    {
     "data": {
      "text/html": [
       "\n",
       "        <iframe\n",
       "            width=\"100%\"\n",
       "            height=\"500px\"\n",
       "            src=\"results\\routes_map-2025-06-11_11-28-37_11626.html\"\n",
       "            frameborder=\"0\"\n",
       "            allowfullscreen\n",
       "            \n",
       "        ></iframe>\n",
       "        "
      ],
      "text/plain": [
       "<IPython.lib.display.IFrame at 0x22db4844a10>"
      ]
     },
     "metadata": {},
     "output_type": "display_data"
    },
    {
     "name": "stdout",
     "output_type": "stream",
     "text": [
      "Map saved to: c:\\Users\\HUAWEI\\CanterburyCommuto\\CanterburyCommuto\\canterburycommuto\\notebooks\\results\\routes_map-2025-06-11_11-28-37_90367.html\n"
     ]
    },
    {
     "data": {
      "text/html": [
       "\n",
       "        <iframe\n",
       "            width=\"100%\"\n",
       "            height=\"500px\"\n",
       "            src=\"results\\routes_map-2025-06-11_11-28-37_90367.html\"\n",
       "            frameborder=\"0\"\n",
       "            allowfullscreen\n",
       "            \n",
       "        ></iframe>\n",
       "        "
      ],
      "text/plain": [
       "<IPython.lib.display.IFrame at 0x22db3776f60>"
      ]
     },
     "metadata": {},
     "output_type": "display_data"
    },
    {
     "name": "stdout",
     "output_type": "stream",
     "text": [
      "Map saved to: c:\\Users\\HUAWEI\\CanterburyCommuto\\CanterburyCommuto\\canterburycommuto\\notebooks\\results\\routes_map-2025-06-11_11-28-37_93817.html\n"
     ]
    },
    {
     "data": {
      "text/html": [
       "\n",
       "        <iframe\n",
       "            width=\"100%\"\n",
       "            height=\"500px\"\n",
       "            src=\"results\\routes_map-2025-06-11_11-28-37_93817.html\"\n",
       "            frameborder=\"0\"\n",
       "            allowfullscreen\n",
       "            \n",
       "        ></iframe>\n",
       "        "
      ],
      "text/plain": [
       "<IPython.lib.display.IFrame at 0x22db01ad130>"
      ]
     },
     "metadata": {},
     "output_type": "display_data"
    },
    {
     "name": "stdout",
     "output_type": "stream",
     "text": [
      "Map saved to: c:\\Users\\HUAWEI\\CanterburyCommuto\\CanterburyCommuto\\canterburycommuto\\notebooks\\results\\routes_map-2025-06-11_11-28-37_31748.html\n"
     ]
    },
    {
     "data": {
      "text/html": [
       "\n",
       "        <iframe\n",
       "            width=\"100%\"\n",
       "            height=\"500px\"\n",
       "            src=\"results\\routes_map-2025-06-11_11-28-37_31748.html\"\n",
       "            frameborder=\"0\"\n",
       "            allowfullscreen\n",
       "            \n",
       "        ></iframe>\n",
       "        "
      ],
      "text/plain": [
       "<IPython.lib.display.IFrame at 0x22db36720c0>"
      ]
     },
     "metadata": {},
     "output_type": "display_data"
    },
    {
     "name": "stdout",
     "output_type": "stream",
     "text": [
      "Map saved to: c:\\Users\\HUAWEI\\CanterburyCommuto\\CanterburyCommuto\\canterburycommuto\\notebooks\\results\\routes_map-2025-06-11_11-28-37_62719.html\n"
     ]
    },
    {
     "data": {
      "text/html": [
       "\n",
       "        <iframe\n",
       "            width=\"100%\"\n",
       "            height=\"500px\"\n",
       "            src=\"results\\routes_map-2025-06-11_11-28-37_62719.html\"\n",
       "            frameborder=\"0\"\n",
       "            allowfullscreen\n",
       "            \n",
       "        ></iframe>\n",
       "        "
      ],
      "text/plain": [
       "<IPython.lib.display.IFrame at 0x22db3776f60>"
      ]
     },
     "metadata": {},
     "output_type": "display_data"
    },
    {
     "name": "stdout",
     "output_type": "stream",
     "text": [
      "Map saved to: c:\\Users\\HUAWEI\\CanterburyCommuto\\CanterburyCommuto\\canterburycommuto\\notebooks\\results\\routes_map-2025-06-11_11-28-37_87663.html\n"
     ]
    },
    {
     "data": {
      "text/html": [
       "\n",
       "        <iframe\n",
       "            width=\"100%\"\n",
       "            height=\"500px\"\n",
       "            src=\"results\\routes_map-2025-06-11_11-28-37_87663.html\"\n",
       "            frameborder=\"0\"\n",
       "            allowfullscreen\n",
       "            \n",
       "        ></iframe>\n",
       "        "
      ],
      "text/plain": [
       "<IPython.lib.display.IFrame at 0x22db36b4fe0>"
      ]
     },
     "metadata": {},
     "output_type": "display_data"
    },
    {
     "name": "stdout",
     "output_type": "stream",
     "text": [
      "Map saved to: c:\\Users\\HUAWEI\\CanterburyCommuto\\CanterburyCommuto\\canterburycommuto\\notebooks\\results\\routes_map-2025-06-11_11-28-37_83984.html\n"
     ]
    },
    {
     "data": {
      "text/html": [
       "\n",
       "        <iframe\n",
       "            width=\"100%\"\n",
       "            height=\"500px\"\n",
       "            src=\"results\\routes_map-2025-06-11_11-28-37_83984.html\"\n",
       "            frameborder=\"0\"\n",
       "            allowfullscreen\n",
       "            \n",
       "        ></iframe>\n",
       "        "
      ],
      "text/plain": [
       "<IPython.lib.display.IFrame at 0x22db48453d0>"
      ]
     },
     "metadata": {},
     "output_type": "display_data"
    },
    {
     "name": "stdout",
     "output_type": "stream",
     "text": [
      "Error fetching directions: NOT_FOUND\n",
      "Map saved to: c:\\Users\\HUAWEI\\CanterburyCommuto\\CanterburyCommuto\\canterburycommuto\\notebooks\\results\\routes_map-2025-06-11_11-28-37_64002.html\n",
      "Map saved to: c:\\Users\\HUAWEI\\CanterburyCommuto\\CanterburyCommuto\\canterburycommuto\\notebooks\\results\\routes_map-2025-06-11_11-28-37_25807.html\n"
     ]
    },
    {
     "data": {
      "text/html": [
       "\n",
       "        <iframe\n",
       "            width=\"100%\"\n",
       "            height=\"500px\"\n",
       "            src=\"results\\routes_map-2025-06-11_11-28-37_64002.html\"\n",
       "            frameborder=\"0\"\n",
       "            allowfullscreen\n",
       "            \n",
       "        ></iframe>\n",
       "        "
      ],
      "text/plain": [
       "<IPython.lib.display.IFrame at 0x22db36daf30>"
      ]
     },
     "metadata": {},
     "output_type": "display_data"
    },
    {
     "data": {
      "text/html": [
       "\n",
       "        <iframe\n",
       "            width=\"100%\"\n",
       "            height=\"500px\"\n",
       "            src=\"results\\routes_map-2025-06-11_11-28-37_25807.html\"\n",
       "            frameborder=\"0\"\n",
       "            allowfullscreen\n",
       "            \n",
       "        ></iframe>\n",
       "        "
      ],
      "text/plain": [
       "<IPython.lib.display.IFrame at 0x22db48bdac0>"
      ]
     },
     "metadata": {},
     "output_type": "display_data"
    },
    {
     "name": "stdout",
     "output_type": "stream",
     "text": [
      "Map saved to: c:\\Users\\HUAWEI\\CanterburyCommuto\\CanterburyCommuto\\canterburycommuto\\notebooks\\results\\routes_map-2025-06-11_11-28-38_48215.html\n"
     ]
    },
    {
     "data": {
      "text/html": [
       "\n",
       "        <iframe\n",
       "            width=\"100%\"\n",
       "            height=\"500px\"\n",
       "            src=\"results\\routes_map-2025-06-11_11-28-38_48215.html\"\n",
       "            frameborder=\"0\"\n",
       "            allowfullscreen\n",
       "            \n",
       "        ></iframe>\n",
       "        "
      ],
      "text/plain": [
       "<IPython.lib.display.IFrame at 0x22db36b55e0>"
      ]
     },
     "metadata": {},
     "output_type": "display_data"
    },
    {
     "name": "stdout",
     "output_type": "stream",
     "text": [
      "Log file saved to: c:\\Users\\HUAWEI\\CanterburyCommuto\\CanterburyCommuto\\canterburycommuto\\notebooks\\results\\iron man.log\n"
     ]
    }
   ],
   "source": [
    "Overlap_Function(\n",
    "    \"origin_destination_test.csv\", \n",
    "    None,\n",
    "    \"home_A_latitude\",\"home_A_longitude\",\"work_A_latitude\",\"work_A_longitude\",\"home_B_latitude\",\"home_B_longitude\",\"work_B_latitude\",\"work_B_longitude\", \"ID\",\n",
    "    50, 100, 100, \"yes with buffer\", \n",
    "    \"no\", output_file = \"iron man\", skip_invalid=True, save_api_info=True\n",
    ")"
   ]
  },
  {
   "cell_type": "markdown",
   "id": "ce36b6fe",
   "metadata": {},
   "source": [
    "### Buffer Route Node Method with Commuting Information Before and After the Overlap"
   ]
  },
  {
   "cell_type": "code",
   "execution_count": 8,
   "id": "f9cb61c7",
   "metadata": {},
   "outputs": [
    {
     "name": "stdout",
     "output_type": "stream",
     "text": [
      "[DEBUG] Checking for config.yaml in: c:\\Users\\HUAWEI\\CanterburyCommuto\\CanterburyCommuto\\canterburycommuto\\notebooks\\config.yaml\n",
      "[DEBUG] Checking for config.yaml in: C:\\Users\\HUAWEI\\.canterburycommuto\\config.yaml\n",
      "[DEBUG] Checking for config.yaml in: c:\\Users\\HUAWEI\\CanterburyCommuto\\CanterburyCommuto\\canterburycommuto\\config.yaml\n",
      "\n",
      "[INFO] Estimated number of API requests: 82\n",
      "[INFO] Estimated cost: $0.41\n",
      "[NOTICE] Actual cost may be higher or lower depending on Google’s pricing tiers and route pair complexity.\n",
      "\n",
      "[PROCESSING] Proceeding with route analysis...\n",
      "\n",
      "Map saved to: c:\\Users\\HUAWEI\\CanterburyCommuto\\CanterburyCommuto\\canterburycommuto\\notebooks\\results\\routes_with_buffers_map-2025-06-11_11-28-39_84330.html\n"
     ]
    },
    {
     "data": {
      "text/html": [
       "\n",
       "        <iframe\n",
       "            width=\"100%\"\n",
       "            height=\"600px\"\n",
       "            src=\"results\\routes_with_buffers_map-2025-06-11_11-28-39_84330.html\"\n",
       "            frameborder=\"0\"\n",
       "            allowfullscreen\n",
       "            \n",
       "        ></iframe>\n",
       "        "
      ],
      "text/plain": [
       "<IPython.lib.display.IFrame at 0x22db36b4a10>"
      ]
     },
     "metadata": {},
     "output_type": "display_data"
    },
    {
     "name": "stdout",
     "output_type": "stream",
     "text": [
      "Map has been displayed inline and saved as 'results\\routes_with_buffers_map-2025-06-11_11-28-39_84330.html'.\n",
      "Error fetching directions: NOT_FOUND\n",
      "Map saved to: c:\\Users\\HUAWEI\\CanterburyCommuto\\CanterburyCommuto\\canterburycommuto\\notebooks\\results\\routes_with_buffers_map-2025-06-11_11-28-40_35577.html\n",
      "Map saved to: c:\\Users\\HUAWEI\\CanterburyCommuto\\CanterburyCommuto\\canterburycommuto\\notebooks\\results\\routes_with_buffers_map-2025-06-11_11-28-40_46075.html\n"
     ]
    },
    {
     "data": {
      "text/html": [
       "\n",
       "        <iframe\n",
       "            width=\"100%\"\n",
       "            height=\"600px\"\n",
       "            src=\"results\\routes_with_buffers_map-2025-06-11_11-28-40_35577.html\"\n",
       "            frameborder=\"0\"\n",
       "            allowfullscreen\n",
       "            \n",
       "        ></iframe>\n",
       "        "
      ],
      "text/plain": [
       "<IPython.lib.display.IFrame at 0x22db4845520>"
      ]
     },
     "metadata": {},
     "output_type": "display_data"
    },
    {
     "data": {
      "text/html": [
       "\n",
       "        <iframe\n",
       "            width=\"100%\"\n",
       "            height=\"600px\"\n",
       "            src=\"results\\routes_with_buffers_map-2025-06-11_11-28-40_46075.html\"\n",
       "            frameborder=\"0\"\n",
       "            allowfullscreen\n",
       "            \n",
       "        ></iframe>\n",
       "        "
      ],
      "text/plain": [
       "<IPython.lib.display.IFrame at 0x22db48471a0>"
      ]
     },
     "metadata": {},
     "output_type": "display_data"
    },
    {
     "name": "stdout",
     "output_type": "stream",
     "text": [
      "Map has been displayed inline and saved as 'results\\routes_with_buffers_map-2025-06-11_11-28-40_35577.html'.\n",
      "Map has been displayed inline and saved as 'results\\routes_with_buffers_map-2025-06-11_11-28-40_46075.html'.\n",
      "Map saved to: c:\\Users\\HUAWEI\\CanterburyCommuto\\CanterburyCommuto\\canterburycommuto\\notebooks\\results\\routes_with_buffers_map-2025-06-11_11-28-40_55954.html\n",
      "Map saved to: c:\\Users\\HUAWEI\\CanterburyCommuto\\CanterburyCommuto\\canterburycommuto\\notebooks\\results\\routes_with_buffers_map-2025-06-11_11-28-40_10471.html\n"
     ]
    },
    {
     "data": {
      "text/html": [
       "\n",
       "        <iframe\n",
       "            width=\"100%\"\n",
       "            height=\"600px\"\n",
       "            src=\"results\\routes_with_buffers_map-2025-06-11_11-28-40_10471.html\"\n",
       "            frameborder=\"0\"\n",
       "            allowfullscreen\n",
       "            \n",
       "        ></iframe>\n",
       "        "
      ],
      "text/plain": [
       "<IPython.lib.display.IFrame at 0x22db01ad130>"
      ]
     },
     "metadata": {},
     "output_type": "display_data"
    },
    {
     "data": {
      "text/html": [
       "\n",
       "        <iframe\n",
       "            width=\"100%\"\n",
       "            height=\"600px\"\n",
       "            src=\"results\\routes_with_buffers_map-2025-06-11_11-28-40_55954.html\"\n",
       "            frameborder=\"0\"\n",
       "            allowfullscreen\n",
       "            \n",
       "        ></iframe>\n",
       "        "
      ],
      "text/plain": [
       "<IPython.lib.display.IFrame at 0x22db4844d70>"
      ]
     },
     "metadata": {},
     "output_type": "display_data"
    },
    {
     "name": "stdout",
     "output_type": "stream",
     "text": [
      "Warning: Not enough points to create buffer. Returning None.\n",
      "Map has been displayed inline and saved as 'results\\routes_with_buffers_map-2025-06-11_11-28-40_10471.html'.\n",
      "Map has been displayed inline and saved as 'results\\routes_with_buffers_map-2025-06-11_11-28-40_55954.html'.\n",
      "Map saved to: c:\\Users\\HUAWEI\\CanterburyCommuto\\CanterburyCommuto\\canterburycommuto\\notebooks\\results\\routes_with_buffers_map-2025-06-11_11-28-40_15043.html\n",
      "Map saved to: c:\\Users\\HUAWEI\\CanterburyCommuto\\CanterburyCommuto\\canterburycommuto\\notebooks\\results\\routes_with_buffers_map-2025-06-11_11-28-40_96783.html\n"
     ]
    },
    {
     "data": {
      "text/html": [
       "\n",
       "        <iframe\n",
       "            width=\"100%\"\n",
       "            height=\"600px\"\n",
       "            src=\"results\\routes_with_buffers_map-2025-06-11_11-28-40_15043.html\"\n",
       "            frameborder=\"0\"\n",
       "            allowfullscreen\n",
       "            \n",
       "        ></iframe>\n",
       "        "
      ],
      "text/plain": [
       "<IPython.lib.display.IFrame at 0x22db48881a0>"
      ]
     },
     "metadata": {},
     "output_type": "display_data"
    },
    {
     "data": {
      "text/html": [
       "\n",
       "        <iframe\n",
       "            width=\"100%\"\n",
       "            height=\"600px\"\n",
       "            src=\"results\\routes_with_buffers_map-2025-06-11_11-28-40_96783.html\"\n",
       "            frameborder=\"0\"\n",
       "            allowfullscreen\n",
       "            \n",
       "        ></iframe>\n",
       "        "
      ],
      "text/plain": [
       "<IPython.lib.display.IFrame at 0x22db4845220>"
      ]
     },
     "metadata": {},
     "output_type": "display_data"
    },
    {
     "name": "stdout",
     "output_type": "stream",
     "text": [
      "Map has been displayed inline and saved as 'results\\routes_with_buffers_map-2025-06-11_11-28-40_15043.html'.\n",
      "Map has been displayed inline and saved as 'results\\routes_with_buffers_map-2025-06-11_11-28-40_96783.html'.\n",
      "Warning: One or both buffer polygons are None. Cannot compute intersection.\n",
      "Log file saved to: c:\\Users\\HUAWEI\\CanterburyCommuto\\CanterburyCommuto\\canterburycommuto\\notebooks\\results\\mission impossible.log\n"
     ]
    }
   ],
   "source": [
    "Overlap_Function(\n",
    "    \"origin_destination_test_ID.csv\",\n",
    "    None,\n",
    "    \"home_A_latitude\",\"home_A_longitude\",\"work_A_latitude\",\"work_A_longitude\",\"home_B_latitude\",\"home_B_longitude\",\"work_B_latitude\",\"work_B_longitude\", \"ID\",\n",
    "    50, 100, 100,\"closer to precision\", \"yes\",\n",
    "    output_file = \"mission impossible\", skip_invalid=True, save_api_info=True\n",
    ")"
   ]
  },
  {
   "cell_type": "markdown",
   "id": "48d0f0ba",
   "metadata": {},
   "source": [
    "### Buffer Route Node Method (only Overlap Information)"
   ]
  },
  {
   "cell_type": "code",
   "execution_count": 9,
   "id": "e3e6481f",
   "metadata": {},
   "outputs": [
    {
     "name": "stdout",
     "output_type": "stream",
     "text": [
      "[DEBUG] Checking for config.yaml in: c:\\Users\\HUAWEI\\CanterburyCommuto\\CanterburyCommuto\\canterburycommuto\\notebooks\\config.yaml\n",
      "[DEBUG] Checking for config.yaml in: C:\\Users\\HUAWEI\\.canterburycommuto\\config.yaml\n",
      "[DEBUG] Checking for config.yaml in: c:\\Users\\HUAWEI\\CanterburyCommuto\\CanterburyCommuto\\canterburycommuto\\config.yaml\n",
      "\n",
      "[INFO] Estimated number of API requests: 42\n",
      "[INFO] Estimated cost: $0.21\n",
      "[NOTICE] Actual cost may be higher or lower depending on Google’s pricing tiers and route pair complexity.\n",
      "\n",
      "[PROCESSING] Proceeding with route analysis...\n",
      "\n",
      "Error fetching directions: NOT_FOUND\n",
      "Map saved to: c:\\Users\\HUAWEI\\CanterburyCommuto\\CanterburyCommuto\\canterburycommuto\\notebooks\\results\\routes_with_buffers_map-2025-06-11_11-28-42_13029.html\n"
     ]
    },
    {
     "data": {
      "text/html": [
       "\n",
       "        <iframe\n",
       "            width=\"100%\"\n",
       "            height=\"600px\"\n",
       "            src=\"results\\routes_with_buffers_map-2025-06-11_11-28-42_13029.html\"\n",
       "            frameborder=\"0\"\n",
       "            allowfullscreen\n",
       "            \n",
       "        ></iframe>\n",
       "        "
      ],
      "text/plain": [
       "<IPython.lib.display.IFrame at 0x22db3670f50>"
      ]
     },
     "metadata": {},
     "output_type": "display_data"
    },
    {
     "name": "stdout",
     "output_type": "stream",
     "text": [
      "Map has been displayed inline and saved as 'results\\routes_with_buffers_map-2025-06-11_11-28-42_13029.html'.\n",
      "Map saved to: c:\\Users\\HUAWEI\\CanterburyCommuto\\CanterburyCommuto\\canterburycommuto\\notebooks\\results\\routes_with_buffers_map-2025-06-11_11-28-42_55325.html\n",
      "Map saved to: c:\\Users\\HUAWEI\\CanterburyCommuto\\CanterburyCommuto\\canterburycommuto\\notebooks\\results\\routes_with_buffers_map-2025-06-11_11-28-42_90010.html\n",
      "Map saved to: c:\\Users\\HUAWEI\\CanterburyCommuto\\CanterburyCommuto\\canterburycommuto\\notebooks\\results\\routes_with_buffers_map-2025-06-11_11-28-42_74669.html\n"
     ]
    },
    {
     "data": {
      "text/html": [
       "\n",
       "        <iframe\n",
       "            width=\"100%\"\n",
       "            height=\"600px\"\n",
       "            src=\"results\\routes_with_buffers_map-2025-06-11_11-28-42_55325.html\"\n",
       "            frameborder=\"0\"\n",
       "            allowfullscreen\n",
       "            \n",
       "        ></iframe>\n",
       "        "
      ],
      "text/plain": [
       "<IPython.lib.display.IFrame at 0x22db37f4fb0>"
      ]
     },
     "metadata": {},
     "output_type": "display_data"
    },
    {
     "data": {
      "text/html": [
       "\n",
       "        <iframe\n",
       "            width=\"100%\"\n",
       "            height=\"600px\"\n",
       "            src=\"results\\routes_with_buffers_map-2025-06-11_11-28-42_90010.html\"\n",
       "            frameborder=\"0\"\n",
       "            allowfullscreen\n",
       "            \n",
       "        ></iframe>\n",
       "        "
      ],
      "text/plain": [
       "<IPython.lib.display.IFrame at 0x22db4817dd0>"
      ]
     },
     "metadata": {},
     "output_type": "display_data"
    },
    {
     "data": {
      "text/html": [
       "\n",
       "        <iframe\n",
       "            width=\"100%\"\n",
       "            height=\"600px\"\n",
       "            src=\"results\\routes_with_buffers_map-2025-06-11_11-28-42_74669.html\"\n",
       "            frameborder=\"0\"\n",
       "            allowfullscreen\n",
       "            \n",
       "        ></iframe>\n",
       "        "
      ],
      "text/plain": [
       "<IPython.lib.display.IFrame at 0x22db3776bd0>"
      ]
     },
     "metadata": {},
     "output_type": "display_data"
    },
    {
     "name": "stdout",
     "output_type": "stream",
     "text": [
      "Map has been displayed inline and saved as 'results\\routes_with_buffers_map-2025-06-11_11-28-42_55325.html'.\n",
      "Warning: Not enough points to create buffer. Returning None.\n",
      "Map has been displayed inline and saved as 'results\\routes_with_buffers_map-2025-06-11_11-28-42_90010.html'.\n",
      "Map has been displayed inline and saved as 'results\\routes_with_buffers_map-2025-06-11_11-28-42_74669.html'.\n",
      "Map saved to: c:\\Users\\HUAWEI\\CanterburyCommuto\\CanterburyCommuto\\canterburycommuto\\notebooks\\results\\routes_with_buffers_map-2025-06-11_11-28-42_77735.html\n"
     ]
    },
    {
     "data": {
      "text/html": [
       "\n",
       "        <iframe\n",
       "            width=\"100%\"\n",
       "            height=\"600px\"\n",
       "            src=\"results\\routes_with_buffers_map-2025-06-11_11-28-42_77735.html\"\n",
       "            frameborder=\"0\"\n",
       "            allowfullscreen\n",
       "            \n",
       "        ></iframe>\n",
       "        "
      ],
      "text/plain": [
       "<IPython.lib.display.IFrame at 0x22db48bdaf0>"
      ]
     },
     "metadata": {},
     "output_type": "display_data"
    },
    {
     "name": "stdout",
     "output_type": "stream",
     "text": [
      "Map has been displayed inline and saved as 'results\\routes_with_buffers_map-2025-06-11_11-28-42_77735.html'.\n",
      "Map saved to: c:\\Users\\HUAWEI\\CanterburyCommuto\\CanterburyCommuto\\canterburycommuto\\notebooks\\results\\routes_with_buffers_map-2025-06-11_11-28-42_86120.html\n"
     ]
    },
    {
     "data": {
      "text/html": [
       "\n",
       "        <iframe\n",
       "            width=\"100%\"\n",
       "            height=\"600px\"\n",
       "            src=\"results\\routes_with_buffers_map-2025-06-11_11-28-42_86120.html\"\n",
       "            frameborder=\"0\"\n",
       "            allowfullscreen\n",
       "            \n",
       "        ></iframe>\n",
       "        "
      ],
      "text/plain": [
       "<IPython.lib.display.IFrame at 0x22db4815430>"
      ]
     },
     "metadata": {},
     "output_type": "display_data"
    },
    {
     "name": "stdout",
     "output_type": "stream",
     "text": [
      "Map has been displayed inline and saved as 'results\\routes_with_buffers_map-2025-06-11_11-28-42_86120.html'.\n",
      "Map saved to: c:\\Users\\HUAWEI\\CanterburyCommuto\\CanterburyCommuto\\canterburycommuto\\notebooks\\results\\routes_with_buffers_map-2025-06-11_11-28-42_97800.html\n"
     ]
    },
    {
     "data": {
      "text/html": [
       "\n",
       "        <iframe\n",
       "            width=\"100%\"\n",
       "            height=\"600px\"\n",
       "            src=\"results\\routes_with_buffers_map-2025-06-11_11-28-42_97800.html\"\n",
       "            frameborder=\"0\"\n",
       "            allowfullscreen\n",
       "            \n",
       "        ></iframe>\n",
       "        "
      ],
      "text/plain": [
       "<IPython.lib.display.IFrame at 0x22db36b61b0>"
      ]
     },
     "metadata": {},
     "output_type": "display_data"
    },
    {
     "name": "stdout",
     "output_type": "stream",
     "text": [
      "Map has been displayed inline and saved as 'results\\routes_with_buffers_map-2025-06-11_11-28-42_97800.html'.\n",
      "Warning: One or both buffer polygons are None. Cannot compute intersection.\n",
      "Log file saved to: c:\\Users\\HUAWEI\\CanterburyCommuto\\CanterburyCommuto\\canterburycommuto\\notebooks\\results\\closest_nodes_buffer_only_overlap-2025-06-11_11-28-41_17478.log\n"
     ]
    }
   ],
   "source": [
    "Overlap_Function(\n",
    "    \"origin_destination_test.csv\",\n",
    "    None,\n",
    "    \"home_A_latitude\",\"home_A_longitude\",\"work_A_latitude\",\"work_A_longitude\",\"home_B_latitude\",\"home_B_longitude\",\"work_B_latitude\",\"work_B_longitude\", None,\n",
    "    50, 100, 100,\"closer to precision\", \"no\",\n",
    "    skip_invalid=True, save_api_info=True\n",
    ")"
   ]
  },
  {
   "cell_type": "markdown",
   "id": "10ce2bff",
   "metadata": {},
   "source": [
    "### Buffer Route Intersection Method with Commuting Information Before and After the Overlap"
   ]
  },
  {
   "cell_type": "code",
   "execution_count": 10,
   "id": "08c1d09b",
   "metadata": {},
   "outputs": [
    {
     "name": "stdout",
     "output_type": "stream",
     "text": [
      "[DEBUG] Checking for config.yaml in: c:\\Users\\HUAWEI\\CanterburyCommuto\\CanterburyCommuto\\canterburycommuto\\notebooks\\config.yaml\n",
      "[DEBUG] Checking for config.yaml in: C:\\Users\\HUAWEI\\.canterburycommuto\\config.yaml\n",
      "[DEBUG] Checking for config.yaml in: c:\\Users\\HUAWEI\\CanterburyCommuto\\CanterburyCommuto\\canterburycommuto\\config.yaml\n",
      "\n",
      "[INFO] Estimated number of API requests: 82\n",
      "[INFO] Estimated cost: $0.41\n",
      "[NOTICE] Actual cost may be higher or lower depending on Google’s pricing tiers and route pair complexity.\n",
      "\n",
      "[PROCESSING] Proceeding with route analysis...\n",
      "\n",
      "Error fetching directions: NOT_FOUND\n",
      "Map saved to: c:\\Users\\HUAWEI\\CanterburyCommuto\\CanterburyCommuto\\canterburycommuto\\notebooks\\results\\routes_with_buffers_map-2025-06-11_11-28-45_20042.html\n"
     ]
    },
    {
     "data": {
      "text/html": [
       "\n",
       "        <iframe\n",
       "            width=\"100%\"\n",
       "            height=\"600px\"\n",
       "            src=\"results\\routes_with_buffers_map-2025-06-11_11-28-45_20042.html\"\n",
       "            frameborder=\"0\"\n",
       "            allowfullscreen\n",
       "            \n",
       "        ></iframe>\n",
       "        "
      ],
      "text/plain": [
       "<IPython.lib.display.IFrame at 0x22db48bf6e0>"
      ]
     },
     "metadata": {},
     "output_type": "display_data"
    },
    {
     "name": "stdout",
     "output_type": "stream",
     "text": [
      "Warning: Not enough points to create buffer. Returning None.Map has been displayed inline and saved as 'results\\routes_with_buffers_map-2025-06-11_11-28-45_20042.html'.\n",
      "\n",
      "Map saved to: c:\\Users\\HUAWEI\\CanterburyCommuto\\CanterburyCommuto\\canterburycommuto\\notebooks\\results\\routes_with_buffers_map-2025-06-11_11-28-45_28488.html\n"
     ]
    },
    {
     "data": {
      "text/html": [
       "\n",
       "        <iframe\n",
       "            width=\"100%\"\n",
       "            height=\"600px\"\n",
       "            src=\"results\\routes_with_buffers_map-2025-06-11_11-28-45_28488.html\"\n",
       "            frameborder=\"0\"\n",
       "            allowfullscreen\n",
       "            \n",
       "        ></iframe>\n",
       "        "
      ],
      "text/plain": [
       "<IPython.lib.display.IFrame at 0x22db3673ad0>"
      ]
     },
     "metadata": {},
     "output_type": "display_data"
    },
    {
     "name": "stdout",
     "output_type": "stream",
     "text": [
      "Map has been displayed inline and saved as 'results\\routes_with_buffers_map-2025-06-11_11-28-45_28488.html'.\n",
      "Map saved to: c:\\Users\\HUAWEI\\CanterburyCommuto\\CanterburyCommuto\\canterburycommuto\\notebooks\\results\\routes_with_buffers_map-2025-06-11_11-28-45_42427.html\n",
      "Map saved to: c:\\Users\\HUAWEI\\CanterburyCommuto\\CanterburyCommuto\\canterburycommuto\\notebooks\\results\\routes_with_buffers_map-2025-06-11_11-28-45_29914.html\n"
     ]
    },
    {
     "data": {
      "text/html": [
       "\n",
       "        <iframe\n",
       "            width=\"100%\"\n",
       "            height=\"600px\"\n",
       "            src=\"results\\routes_with_buffers_map-2025-06-11_11-28-45_42427.html\"\n",
       "            frameborder=\"0\"\n",
       "            allowfullscreen\n",
       "            \n",
       "        ></iframe>\n",
       "        "
      ],
      "text/plain": [
       "<IPython.lib.display.IFrame at 0x22db36d8170>"
      ]
     },
     "metadata": {},
     "output_type": "display_data"
    },
    {
     "data": {
      "text/html": [
       "\n",
       "        <iframe\n",
       "            width=\"100%\"\n",
       "            height=\"600px\"\n",
       "            src=\"results\\routes_with_buffers_map-2025-06-11_11-28-45_29914.html\"\n",
       "            frameborder=\"0\"\n",
       "            allowfullscreen\n",
       "            \n",
       "        ></iframe>\n",
       "        "
      ],
      "text/plain": [
       "<IPython.lib.display.IFrame at 0x22db36d86b0>"
      ]
     },
     "metadata": {},
     "output_type": "display_data"
    },
    {
     "name": "stdout",
     "output_type": "stream",
     "text": [
      "Map has been displayed inline and saved as 'results\\routes_with_buffers_map-2025-06-11_11-28-45_42427.html'.\n",
      "Map has been displayed inline and saved as 'results\\routes_with_buffers_map-2025-06-11_11-28-45_29914.html'.\n",
      "Map saved to: c:\\Users\\HUAWEI\\CanterburyCommuto\\CanterburyCommuto\\canterburycommuto\\notebooks\\results\\routes_with_buffers_map-2025-06-11_11-28-45_33248.html\n"
     ]
    },
    {
     "data": {
      "text/html": [
       "\n",
       "        <iframe\n",
       "            width=\"100%\"\n",
       "            height=\"600px\"\n",
       "            src=\"results\\routes_with_buffers_map-2025-06-11_11-28-45_33248.html\"\n",
       "            frameborder=\"0\"\n",
       "            allowfullscreen\n",
       "            \n",
       "        ></iframe>\n",
       "        "
      ],
      "text/plain": [
       "<IPython.lib.display.IFrame at 0x22db37761b0>"
      ]
     },
     "metadata": {},
     "output_type": "display_data"
    },
    {
     "name": "stdout",
     "output_type": "stream",
     "text": [
      "Map has been displayed inline and saved as 'results\\routes_with_buffers_map-2025-06-11_11-28-45_33248.html'.\n",
      "Warning: One or both buffer polygons are None. Cannot compute intersection.\n",
      "Map saved to: c:\\Users\\HUAWEI\\CanterburyCommuto\\CanterburyCommuto\\canterburycommuto\\notebooks\\results\\routes_with_buffers_map-2025-06-11_11-28-45_38676.html\n",
      "Map saved to: c:\\Users\\HUAWEI\\CanterburyCommuto\\CanterburyCommuto\\canterburycommuto\\notebooks\\results\\routes_with_buffers_map-2025-06-11_11-28-45_82989.html\n"
     ]
    },
    {
     "data": {
      "text/html": [
       "\n",
       "        <iframe\n",
       "            width=\"100%\"\n",
       "            height=\"600px\"\n",
       "            src=\"results\\routes_with_buffers_map-2025-06-11_11-28-45_38676.html\"\n",
       "            frameborder=\"0\"\n",
       "            allowfullscreen\n",
       "            \n",
       "        ></iframe>\n",
       "        "
      ],
      "text/plain": [
       "<IPython.lib.display.IFrame at 0x22db36db4d0>"
      ]
     },
     "metadata": {},
     "output_type": "display_data"
    },
    {
     "data": {
      "text/html": [
       "\n",
       "        <iframe\n",
       "            width=\"100%\"\n",
       "            height=\"600px\"\n",
       "            src=\"results\\routes_with_buffers_map-2025-06-11_11-28-45_82989.html\"\n",
       "            frameborder=\"0\"\n",
       "            allowfullscreen\n",
       "            \n",
       "        ></iframe>\n",
       "        "
      ],
      "text/plain": [
       "<IPython.lib.display.IFrame at 0x22db3629a30>"
      ]
     },
     "metadata": {},
     "output_type": "display_data"
    },
    {
     "name": "stdout",
     "output_type": "stream",
     "text": [
      "Map has been displayed inline and saved as 'results\\routes_with_buffers_map-2025-06-11_11-28-45_38676.html'.\n",
      "Map has been displayed inline and saved as 'results\\routes_with_buffers_map-2025-06-11_11-28-45_82989.html'.\n",
      "Error fetching directions: NOT_FOUND\n",
      "Error fetching directions: NOT_FOUND\n",
      "Error fetching directions: NOT_FOUND\n",
      "Warning: Not enough points to create buffer. Returning None.\n",
      "Warning: One or both buffer polygons are None. Cannot compute intersection.\n",
      "Warning: Not enough points to create buffer. Returning None.\n",
      "Warning: Not enough points to create buffer. Returning None.\n",
      "Warning: One or both buffer polygons are None. Cannot compute intersection.\n",
      "Warning: One or both buffer polygons are None. Cannot compute intersection.\n",
      "Log file saved to: c:\\Users\\HUAWEI\\CanterburyCommuto\\CanterburyCommuto\\canterburycommuto\\notebooks\\results\\Tom.log\n"
     ]
    }
   ],
   "source": [
    "Overlap_Function(\n",
    "    \"origin_destination_test.csv\",\n",
    "    None,\n",
    "    \"home_A_latitude\",\"home_A_longitude\",\"work_A_latitude\",\"work_A_longitude\",\"home_B_latitude\",\"home_B_longitude\",\"work_B_latitude\",\"work_B_longitude\", None,\n",
    "    50, 100, 100,\"exact\", \"yes\",\n",
    "    output_file = \"Tom\", skip_invalid=True, save_api_info=True\n",
    ")\n"
   ]
  },
  {
   "cell_type": "markdown",
   "id": "7acc47e0",
   "metadata": {},
   "source": [
    "### Buffer Route Intersection Method (only Overlap Information)"
   ]
  },
  {
   "cell_type": "code",
   "execution_count": 11,
   "id": "0722de74",
   "metadata": {},
   "outputs": [
    {
     "name": "stdout",
     "output_type": "stream",
     "text": [
      "[DEBUG] Checking for config.yaml in: c:\\Users\\HUAWEI\\CanterburyCommuto\\CanterburyCommuto\\canterburycommuto\\notebooks\\config.yaml\n",
      "[DEBUG] Checking for config.yaml in: C:\\Users\\HUAWEI\\.canterburycommuto\\config.yaml\n",
      "[DEBUG] Checking for config.yaml in: c:\\Users\\HUAWEI\\CanterburyCommuto\\CanterburyCommuto\\canterburycommuto\\config.yaml\n",
      "\n",
      "[INFO] Estimated number of API requests: 42\n",
      "[INFO] Estimated cost: $0.21\n",
      "[NOTICE] Actual cost may be higher or lower depending on Google’s pricing tiers and route pair complexity.\n",
      "\n",
      "[PROCESSING] Proceeding with route analysis...\n",
      "\n",
      "Error fetching directions: NOT_FOUND\n",
      "Map saved to: c:\\Users\\HUAWEI\\CanterburyCommuto\\CanterburyCommuto\\canterburycommuto\\notebooks\\results\\routes_with_buffers_map-2025-06-11_11-28-48_19130.html\n"
     ]
    },
    {
     "data": {
      "text/html": [
       "\n",
       "        <iframe\n",
       "            width=\"100%\"\n",
       "            height=\"600px\"\n",
       "            src=\"results\\routes_with_buffers_map-2025-06-11_11-28-48_19130.html\"\n",
       "            frameborder=\"0\"\n",
       "            allowfullscreen\n",
       "            \n",
       "        ></iframe>\n",
       "        "
      ],
      "text/plain": [
       "<IPython.lib.display.IFrame at 0x22db362a5d0>"
      ]
     },
     "metadata": {},
     "output_type": "display_data"
    },
    {
     "name": "stdout",
     "output_type": "stream",
     "text": [
      "Map has been displayed inline and saved as 'results\\routes_with_buffers_map-2025-06-11_11-28-48_19130.html'.\n",
      "Map saved to: c:\\Users\\HUAWEI\\CanterburyCommuto\\CanterburyCommuto\\canterburycommuto\\notebooks\\results\\routes_with_buffers_map-2025-06-11_11-28-48_28859.html\n"
     ]
    },
    {
     "data": {
      "text/html": [
       "\n",
       "        <iframe\n",
       "            width=\"100%\"\n",
       "            height=\"600px\"\n",
       "            src=\"results\\routes_with_buffers_map-2025-06-11_11-28-48_28859.html\"\n",
       "            frameborder=\"0\"\n",
       "            allowfullscreen\n",
       "            \n",
       "        ></iframe>\n",
       "        "
      ],
      "text/plain": [
       "<IPython.lib.display.IFrame at 0x22db4bc6390>"
      ]
     },
     "metadata": {},
     "output_type": "display_data"
    },
    {
     "name": "stdout",
     "output_type": "stream",
     "text": [
      "Map has been displayed inline and saved as 'results\\routes_with_buffers_map-2025-06-11_11-28-48_28859.html'.Map saved to: c:\\Users\\HUAWEI\\CanterburyCommuto\\CanterburyCommuto\\canterburycommuto\\notebooks\\results\\routes_with_buffers_map-2025-06-11_11-28-48_83612.html\n",
      "\n",
      "Warning: Not enough points to create buffer. Returning None.\n"
     ]
    },
    {
     "data": {
      "text/html": [
       "\n",
       "        <iframe\n",
       "            width=\"100%\"\n",
       "            height=\"600px\"\n",
       "            src=\"results\\routes_with_buffers_map-2025-06-11_11-28-48_83612.html\"\n",
       "            frameborder=\"0\"\n",
       "            allowfullscreen\n",
       "            \n",
       "        ></iframe>\n",
       "        "
      ],
      "text/plain": [
       "<IPython.lib.display.IFrame at 0x22db362a540>"
      ]
     },
     "metadata": {},
     "output_type": "display_data"
    },
    {
     "name": "stdout",
     "output_type": "stream",
     "text": [
      "Map has been displayed inline and saved as 'results\\routes_with_buffers_map-2025-06-11_11-28-48_83612.html'.\n",
      "Map saved to: c:\\Users\\HUAWEI\\CanterburyCommuto\\CanterburyCommuto\\canterburycommuto\\notebooks\\results\\routes_with_buffers_map-2025-06-11_11-28-48_46973.html\n"
     ]
    },
    {
     "data": {
      "text/html": [
       "\n",
       "        <iframe\n",
       "            width=\"100%\"\n",
       "            height=\"600px\"\n",
       "            src=\"results\\routes_with_buffers_map-2025-06-11_11-28-48_46973.html\"\n",
       "            frameborder=\"0\"\n",
       "            allowfullscreen\n",
       "            \n",
       "        ></iframe>\n",
       "        "
      ],
      "text/plain": [
       "<IPython.lib.display.IFrame at 0x22db36b60f0>"
      ]
     },
     "metadata": {},
     "output_type": "display_data"
    },
    {
     "name": "stdout",
     "output_type": "stream",
     "text": [
      "Map saved to: c:\\Users\\HUAWEI\\CanterburyCommuto\\CanterburyCommuto\\canterburycommuto\\notebooks\\results\\routes_with_buffers_map-2025-06-11_11-28-48_78326.html\n",
      "Map has been displayed inline and saved as 'results\\routes_with_buffers_map-2025-06-11_11-28-48_46973.html'.\n"
     ]
    },
    {
     "data": {
      "text/html": [
       "\n",
       "        <iframe\n",
       "            width=\"100%\"\n",
       "            height=\"600px\"\n",
       "            src=\"results\\routes_with_buffers_map-2025-06-11_11-28-48_78326.html\"\n",
       "            frameborder=\"0\"\n",
       "            allowfullscreen\n",
       "            \n",
       "        ></iframe>\n",
       "        "
      ],
      "text/plain": [
       "<IPython.lib.display.IFrame at 0x22db3629bb0>"
      ]
     },
     "metadata": {},
     "output_type": "display_data"
    },
    {
     "name": "stdout",
     "output_type": "stream",
     "text": [
      "Map has been displayed inline and saved as 'results\\routes_with_buffers_map-2025-06-11_11-28-48_78326.html'.\n",
      "Map saved to: c:\\Users\\HUAWEI\\CanterburyCommuto\\CanterburyCommuto\\canterburycommuto\\notebooks\\results\\routes_with_buffers_map-2025-06-11_11-28-48_64575.html\n"
     ]
    },
    {
     "data": {
      "text/html": [
       "\n",
       "        <iframe\n",
       "            width=\"100%\"\n",
       "            height=\"600px\"\n",
       "            src=\"results\\routes_with_buffers_map-2025-06-11_11-28-48_64575.html\"\n",
       "            frameborder=\"0\"\n",
       "            allowfullscreen\n",
       "            \n",
       "        ></iframe>\n",
       "        "
      ],
      "text/plain": [
       "<IPython.lib.display.IFrame at 0x22db4c4ad80>"
      ]
     },
     "metadata": {},
     "output_type": "display_data"
    },
    {
     "name": "stdout",
     "output_type": "stream",
     "text": [
      "Map has been displayed inline and saved as 'results\\routes_with_buffers_map-2025-06-11_11-28-48_64575.html'.\n",
      "Map saved to: c:\\Users\\HUAWEI\\CanterburyCommuto\\CanterburyCommuto\\canterburycommuto\\notebooks\\results\\routes_with_buffers_map-2025-06-11_11-28-48_72592.html\n"
     ]
    },
    {
     "data": {
      "text/html": [
       "\n",
       "        <iframe\n",
       "            width=\"100%\"\n",
       "            height=\"600px\"\n",
       "            src=\"results\\routes_with_buffers_map-2025-06-11_11-28-48_72592.html\"\n",
       "            frameborder=\"0\"\n",
       "            allowfullscreen\n",
       "            \n",
       "        ></iframe>\n",
       "        "
      ],
      "text/plain": [
       "<IPython.lib.display.IFrame at 0x22db4c4aa50>"
      ]
     },
     "metadata": {},
     "output_type": "display_data"
    },
    {
     "name": "stdout",
     "output_type": "stream",
     "text": [
      "Map has been displayed inline and saved as 'results\\routes_with_buffers_map-2025-06-11_11-28-48_72592.html'.\n",
      "Warning: One or both buffer polygons are None. Cannot compute intersection.\n",
      "Log file saved to: c:\\Users\\HUAWEI\\CanterburyCommuto\\CanterburyCommuto\\canterburycommuto\\notebooks\\results\\exact_intersection_buffer_only_overlap-2025-06-11_11-28-47_18787.log\n"
     ]
    }
   ],
   "source": [
    "Overlap_Function(\n",
    "    \"origin_destination_test_ID.csv\",\n",
    "    None,\n",
    "    \"home_A_latitude\",\"home_A_longitude\",\"work_A_latitude\",\"work_A_longitude\",\"home_B_latitude\",\"home_B_longitude\",\"work_B_latitude\",\"work_B_longitude\", \"ID\",\n",
    "    50, 100, 100,\"exact\", \"no\",\n",
    "   skip_invalid=True, save_api_info=True\n",
    ")"
   ]
  }
 ],
 "metadata": {
  "kernelspec": {
   "display_name": "base",
   "language": "python",
   "name": "python3"
  },
  "language_info": {
   "codemirror_mode": {
    "name": "ipython",
    "version": 3
   },
   "file_extension": ".py",
   "mimetype": "text/x-python",
   "name": "python",
   "nbconvert_exporter": "python",
   "pygments_lexer": "ipython3",
   "version": "3.12.4"
  }
 },
 "nbformat": 4,
 "nbformat_minor": 5
}
