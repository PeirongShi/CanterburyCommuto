{
 "cells": [
  {
   "cell_type": "markdown",
   "id": "c95ad5d4",
   "metadata": {},
   "source": [
    "If you have not installed CanterburyCommuto, please run the code below."
   ]
  },
  {
   "cell_type": "code",
   "execution_count": 1,
   "id": "2cd97254",
   "metadata": {},
   "outputs": [
    {
     "name": "stdout",
     "output_type": "stream",
     "text": [
      "Requirement already satisfied: canterburycommuto in d:\\anaconda\\lib\\site-packages (0.1.5)\n"
     ]
    }
   ],
   "source": [
    "!pip install --upgrade --no-cache-dir canterburycommuto"
   ]
  },
  {
   "cell_type": "markdown",
   "id": "57f9339e-6cc5-4e1e-9e8b-fba490c497f0",
   "metadata": {},
   "source": [
    "The exclamation mark ! is added before git in Jupyter Notebook to avoid syntax error."
   ]
  },
  {
   "cell_type": "code",
   "execution_count": 2,
   "id": "d4d170b6-c212-47aa-9a65-6fe595305ccc",
   "metadata": {},
   "outputs": [
    {
     "name": "stderr",
     "output_type": "stream",
     "text": [
      "Cloning into 'CanterburyCommuto'...\n"
     ]
    }
   ],
   "source": [
    "!git clone https://github.com/PeirongShi/CanterburyCommuto.git"
   ]
  },
  {
   "cell_type": "markdown",
   "id": "02a9a994-d93f-4707-9fea-8f14001bfcc3",
   "metadata": {},
   "source": [
    "For the same reason as it is for git, % and ! should be added in front of cd and pip."
   ]
  },
  {
   "cell_type": "code",
   "execution_count": 3,
   "id": "c0786058-db2e-4592-8c9c-3b8f0ce66253",
   "metadata": {},
   "outputs": [
    {
     "name": "stdout",
     "output_type": "stream",
     "text": [
      "c:\\Users\\HUAWEI\\CanterburyCommuto\\example\\CanterburyCommuto\n",
      "Requirement already satisfied: requests==2.32.2 in d:\\anaconda\\lib\\site-packages (from -r requirements.txt (line 1)) (2.32.2)\n",
      "Requirement already satisfied: polyline==2.0.2 in d:\\anaconda\\lib\\site-packages (from -r requirements.txt (line 2)) (2.0.2)\n",
      "Requirement already satisfied: matplotlib==3.8.4 in d:\\anaconda\\lib\\site-packages (from -r requirements.txt (line 3)) (3.8.4)\n",
      "Requirement already satisfied: shapely==2.0.5 in d:\\anaconda\\lib\\site-packages (from -r requirements.txt (line 4)) (2.0.5)\n",
      "Requirement already satisfied: pyproj==3.6.1 in d:\\anaconda\\lib\\site-packages (from -r requirements.txt (line 5)) (3.6.1)\n",
      "Requirement already satisfied: folium==0.14.0 in d:\\anaconda\\lib\\site-packages (from -r requirements.txt (line 6)) (0.14.0)\n",
      "Requirement already satisfied: IPython==8.25.0 in d:\\anaconda\\lib\\site-packages (from -r requirements.txt (line 7)) (8.25.0)\n",
      "Requirement already satisfied: charset-normalizer<4,>=2 in d:\\anaconda\\lib\\site-packages (from requests==2.32.2->-r requirements.txt (line 1)) (2.0.4)\n",
      "Requirement already satisfied: idna<4,>=2.5 in d:\\anaconda\\lib\\site-packages (from requests==2.32.2->-r requirements.txt (line 1)) (3.7)\n",
      "Requirement already satisfied: urllib3<3,>=1.21.1 in d:\\anaconda\\lib\\site-packages (from requests==2.32.2->-r requirements.txt (line 1)) (2.2.2)\n",
      "Requirement already satisfied: certifi>=2017.4.17 in d:\\anaconda\\lib\\site-packages (from requests==2.32.2->-r requirements.txt (line 1)) (2024.8.30)\n",
      "Requirement already satisfied: contourpy>=1.0.1 in d:\\anaconda\\lib\\site-packages (from matplotlib==3.8.4->-r requirements.txt (line 3)) (1.2.0)\n",
      "Requirement already satisfied: cycler>=0.10 in d:\\anaconda\\lib\\site-packages (from matplotlib==3.8.4->-r requirements.txt (line 3)) (0.11.0)\n",
      "Requirement already satisfied: fonttools>=4.22.0 in d:\\anaconda\\lib\\site-packages (from matplotlib==3.8.4->-r requirements.txt (line 3)) (4.51.0)\n",
      "Requirement already satisfied: kiwisolver>=1.3.1 in d:\\anaconda\\lib\\site-packages (from matplotlib==3.8.4->-r requirements.txt (line 3)) (1.4.4)\n",
      "Requirement already satisfied: numpy>=1.21 in d:\\anaconda\\lib\\site-packages (from matplotlib==3.8.4->-r requirements.txt (line 3)) (1.26.4)\n",
      "Requirement already satisfied: packaging>=20.0 in d:\\anaconda\\lib\\site-packages (from matplotlib==3.8.4->-r requirements.txt (line 3)) (23.2)\n",
      "Requirement already satisfied: pillow>=8 in d:\\anaconda\\lib\\site-packages (from matplotlib==3.8.4->-r requirements.txt (line 3)) (10.3.0)\n",
      "Requirement already satisfied: pyparsing>=2.3.1 in d:\\anaconda\\lib\\site-packages (from matplotlib==3.8.4->-r requirements.txt (line 3)) (3.0.9)\n",
      "Requirement already satisfied: python-dateutil>=2.7 in d:\\anaconda\\lib\\site-packages (from matplotlib==3.8.4->-r requirements.txt (line 3)) (2.9.0.post0)\n",
      "Requirement already satisfied: branca>=0.6.0 in d:\\anaconda\\lib\\site-packages (from folium==0.14.0->-r requirements.txt (line 6)) (0.6.0)\n",
      "Requirement already satisfied: jinja2>=2.9 in d:\\anaconda\\lib\\site-packages (from folium==0.14.0->-r requirements.txt (line 6)) (3.1.4)\n",
      "Requirement already satisfied: decorator in d:\\anaconda\\lib\\site-packages (from IPython==8.25.0->-r requirements.txt (line 7)) (5.1.1)\n",
      "Requirement already satisfied: jedi>=0.16 in d:\\anaconda\\lib\\site-packages (from IPython==8.25.0->-r requirements.txt (line 7)) (0.18.1)\n",
      "Requirement already satisfied: matplotlib-inline in d:\\anaconda\\lib\\site-packages (from IPython==8.25.0->-r requirements.txt (line 7)) (0.1.6)\n",
      "Requirement already satisfied: prompt-toolkit<3.1.0,>=3.0.41 in d:\\anaconda\\lib\\site-packages (from IPython==8.25.0->-r requirements.txt (line 7)) (3.0.43)\n",
      "Requirement already satisfied: pygments>=2.4.0 in d:\\anaconda\\lib\\site-packages (from IPython==8.25.0->-r requirements.txt (line 7)) (2.15.1)\n",
      "Requirement already satisfied: stack-data in d:\\anaconda\\lib\\site-packages (from IPython==8.25.0->-r requirements.txt (line 7)) (0.2.0)\n",
      "Requirement already satisfied: traitlets>=5.13.0 in d:\\anaconda\\lib\\site-packages (from IPython==8.25.0->-r requirements.txt (line 7)) (5.14.3)\n",
      "Requirement already satisfied: colorama in d:\\anaconda\\lib\\site-packages (from IPython==8.25.0->-r requirements.txt (line 7)) (0.4.6)\n",
      "Requirement already satisfied: parso<0.9.0,>=0.8.0 in d:\\anaconda\\lib\\site-packages (from jedi>=0.16->IPython==8.25.0->-r requirements.txt (line 7)) (0.8.3)\n",
      "Requirement already satisfied: MarkupSafe>=2.0 in d:\\anaconda\\lib\\site-packages (from jinja2>=2.9->folium==0.14.0->-r requirements.txt (line 6)) (2.1.3)\n",
      "Requirement already satisfied: wcwidth in d:\\anaconda\\lib\\site-packages (from prompt-toolkit<3.1.0,>=3.0.41->IPython==8.25.0->-r requirements.txt (line 7)) (0.2.5)\n",
      "Requirement already satisfied: six>=1.5 in d:\\anaconda\\lib\\site-packages (from python-dateutil>=2.7->matplotlib==3.8.4->-r requirements.txt (line 3)) (1.16.0)\n",
      "Requirement already satisfied: executing in d:\\anaconda\\lib\\site-packages (from stack-data->IPython==8.25.0->-r requirements.txt (line 7)) (0.8.3)\n",
      "Requirement already satisfied: asttokens in d:\\anaconda\\lib\\site-packages (from stack-data->IPython==8.25.0->-r requirements.txt (line 7)) (2.0.5)\n",
      "Requirement already satisfied: pure-eval in d:\\anaconda\\lib\\site-packages (from stack-data->IPython==8.25.0->-r requirements.txt (line 7)) (0.2.2)\n"
     ]
    }
   ],
   "source": [
    "%cd CanterburyCommuto\n",
    "!pip install -r requirements.txt"
   ]
  },
  {
   "cell_type": "markdown",
   "id": "c14ba06f-cca8-4237-b5b6-9b75616df80b",
   "metadata": {},
   "source": [
    "Add ! before python."
   ]
  },
  {
   "cell_type": "code",
   "execution_count": 4,
   "id": "0cb52f5d",
   "metadata": {},
   "outputs": [
    {
     "name": "stdout",
     "output_type": "stream",
     "text": [
      "CSV file saved as origin_destination_coordinates.csv\n"
     ]
    }
   ],
   "source": [
    "!python CanterburyCommuto/canterburycommuto/Sample.py"
   ]
  },
  {
   "cell_type": "code",
   "execution_count": 5,
   "id": "de68ab43-b48d-4cd1-a0f4-b864082b28fd",
   "metadata": {},
   "outputs": [],
   "source": [
    "from canterburycommuto.CanterburyCommuto import Overlap_Function"
   ]
  },
  {
   "cell_type": "markdown",
   "id": "46b30c13",
   "metadata": {},
   "source": [
    "#### Before running the main function to retrieve commuting information, it is highly recommended that users first run the estimation command. This provides an estimate of the number of Google API requests that will be made and the potential cost involved. Since extensive use of the Google API can be expensive, estimating beforehand helps users make informed decisions. Please note that actual costs may vary based on Google's pricing tiers and the complexity of the route combinations."
   ]
  },
  {
   "cell_type": "code",
   "execution_count": 6,
   "id": "b46c256a",
   "metadata": {},
   "outputs": [
    {
     "name": "stdout",
     "output_type": "stream",
     "text": [
      "Estimated API requests: 25\n",
      "Estimated cost (USD): $0.12\n"
     ]
    }
   ],
   "source": [
    "!python -m canterburycommuto estimate origin_destination_coordinates.csv \\\n",
    "    --approximation \"exact\" \\\n",
    "    --commuting_info \"no\" \\\n",
    "    --colorna \"home_A\" \\\n",
    "    --coldesta \"work_A\" \\\n",
    "    --colorib \"home_B\" \\\n",
    "    --colfestb \"work_B\" \\\n",
    "    --output_overlap \"exact_only_output.csv\" \\\n",
    "    --output_buffer \"exact_only.csv\" \\\n",
    "    --skip_invalid True"
   ]
  },
  {
   "cell_type": "markdown",
   "id": "534a8662-5527-452e-aea0-1d796da9b353",
   "metadata": {},
   "source": [
    "### Please replace \"API_KEY\" with your Google API Key in the following codes. "
   ]
  },
  {
   "cell_type": "markdown",
   "id": "7844be11-0707-471a-aab3-ce7811e3b030",
   "metadata": {},
   "source": [
    "Common Node method with commuting information before and after the overlap."
   ]
  },
  {
   "cell_type": "code",
   "execution_count": null,
   "id": "50d20fa7-84d2-4d34-97f8-01bce250178e",
   "metadata": {},
   "outputs": [
    {
     "name": "stdout",
     "output_type": "stream",
     "text": [
      "\n",
      "[INFO] Estimated number of API requests: 43\n",
      "[INFO] Estimated cost: $0.21\n",
      "[NOTICE] Actual cost may be higher or lower depending on Google’s pricing tiers and route pair complexity.\n",
      "\n",
      "[AUTO-CONFIRM] Skipping user prompt and proceeding...\n",
      "\n",
      "[PROCESSING] Proceeding with route analysis...\n",
      "\n",
      "Map saved to: c:\\Users\\HUAWEI\\CanterburyCommuto\\example\\CanterburyCommuto\\results\\routes_map-2025-05-30_18-32-42_99353.html\n",
      "<IPython.lib.display.IFrame object at 0x0000017042746AB0>\n",
      "Map saved to: c:\\Users\\HUAWEI\\CanterburyCommuto\\example\\CanterburyCommuto\\results\\routes_map-2025-05-30_18-32-43_42999.html\n",
      "<IPython.lib.display.IFrame object at 0x000001704281E210>\n",
      "Map saved to: c:\\Users\\HUAWEI\\CanterburyCommuto\\example\\CanterburyCommuto\\results\\routes_map-2025-05-30_18-32-43_52606.html\n",
      "<IPython.lib.display.IFrame object at 0x0000017042788FE0>\n",
      "Map saved to: c:\\Users\\HUAWEI\\CanterburyCommuto\\example\\CanterburyCommuto\\results\\routes_map-2025-05-30_18-32-43_75315.html\n",
      "<IPython.lib.display.IFrame object at 0x00000170427B6E70>\n",
      "Map saved to: c:\\Users\\HUAWEI\\CanterburyCommuto\\example\\CanterburyCommuto\\results\\routes_map-2025-05-30_18-32-43_60335.html\n",
      "<IPython.lib.display.IFrame object at 0x0000017042954B00>\n",
      "Map saved to: c:\\Users\\HUAWEI\\CanterburyCommuto\\example\\CanterburyCommuto\\results\\routes_map-2025-05-30_18-32-43_75928.html\n",
      "<IPython.lib.display.IFrame object at 0x0000017042954410>\n",
      "Map saved to: c:\\Users\\HUAWEI\\CanterburyCommuto\\example\\CanterburyCommuto\\results\\routes_map-2025-05-30_18-32-43_22150.html\n",
      "<IPython.lib.display.IFrame object at 0x0000017042956060>\n",
      "Log file saved to: c:\\Users\\HUAWEI\\CanterburyCommuto\\example\\CanterburyCommuto\\results\\route_output.log\n"
     ]
    }
   ],
   "source": [
    "!python -m canterburycommuto overlap origin_destination_coordinates.csv \\\n",
    "    --api_key \"API_KEY\" \\\n",
    "    --threshold 60 \\\n",
    "    --width 120 \\\n",
    "    --buffer 150 \\\n",
    "    --approximation \"no\" \\\n",
    "    --commuting_info \"yes\" \\\n",
    "    --colorna \"home_A\" \\\n",
    "    --coldesta \"work_A\" \\\n",
    "    --colorib \"home_B\" \\\n",
    "    --colfestb \"work_B\" \\\n",
    "    --output_overlap \"route_output.csv\" \\\n",
    "    --output_buffer \"buffer_output.csv\" \\\n",
    "    --skip_invalid True \\\n",
    "    --save_api_info \\\n",
    "    --yes"
   ]
  },
  {
   "cell_type": "markdown",
   "id": "044e8598",
   "metadata": {},
   "source": [
    "To avoid entering your Google API key each time, you can create a configuration file (config.yaml), which should be created in the main CanterburyCommuto directory to ensure proper initialization and loading of settings. In that file, include a single line with your API key in the following format: "
   ]
  },
  {
   "cell_type": "code",
   "execution_count": null,
   "id": "42cadc51",
   "metadata": {},
   "outputs": [],
   "source": [
    "api_key: 1234567890"
   ]
  },
  {
   "cell_type": "markdown",
   "id": "974fe464",
   "metadata": {},
   "source": [
    "Replace the value with your own key. Once this file is in place, you can omit the --api_key flag when running the command-line tool. The program will automatically read the key from config.yaml. For example, instead of providing --api_key on the command line, you can simply run:"
   ]
  },
  {
   "cell_type": "code",
   "execution_count": 9,
   "id": "d59ac2b0",
   "metadata": {},
   "outputs": [
    {
     "name": "stdout",
     "output_type": "stream",
     "text": [
      "[DEBUG] Checking for config.yaml in: c:\\Users\\HUAWEI\\CanterburyCommuto\\example\\CanterburyCommuto\\config.yaml\n",
      "\n",
      "[INFO] Estimated number of API requests: 43\n",
      "[INFO] Estimated cost: $0.21\n",
      "[NOTICE] Actual cost may be higher or lower depending on Google’s pricing tiers and route pair complexity.\n",
      "\n",
      "[AUTO-CONFIRM] Skipping user prompt and proceeding...\n",
      "\n",
      "[PROCESSING] Proceeding with route analysis...\n",
      "\n",
      "Map saved to: c:\\Users\\HUAWEI\\CanterburyCommuto\\example\\CanterburyCommuto\\results\\routes_map-2025-05-30_19-11-19_70575.html\n",
      "<IPython.lib.display.IFrame object at 0x000001F908B99F40>\n",
      "Map saved to: c:\\Users\\HUAWEI\\CanterburyCommuto\\example\\CanterburyCommuto\\results\\routes_map-2025-05-30_19-11-20_64645.html\n",
      "<IPython.lib.display.IFrame object at 0x000001F908B9A0F0>\n",
      "Map saved to: c:\\Users\\HUAWEI\\CanterburyCommuto\\example\\CanterburyCommuto\\results\\routes_map-2025-05-30_19-11-20_28642.html\n",
      "<IPython.lib.display.IFrame object at 0x000001F908AF2A80>\n",
      "Map saved to: c:\\Users\\HUAWEI\\CanterburyCommuto\\example\\CanterburyCommuto\\results\\routes_map-2025-05-30_19-11-20_54307.html\n",
      "<IPython.lib.display.IFrame object at 0x000001F908CDE8A0>\n",
      "Map saved to: c:\\Users\\HUAWEI\\CanterburyCommuto\\example\\CanterburyCommuto\\results\\routes_map-2025-05-30_19-11-20_45126.html\n",
      "<IPython.lib.display.IFrame object at 0x000001F908ABEAE0>\n",
      "Map saved to: c:\\Users\\HUAWEI\\CanterburyCommuto\\example\\CanterburyCommuto\\results\\routes_map-2025-05-30_19-11-21_71870.html\n",
      "<IPython.lib.display.IFrame object at 0x000001F908D15E80>\n",
      "Map saved to: c:\\Users\\HUAWEI\\CanterburyCommuto\\example\\CanterburyCommuto\\results\\routes_map-2025-05-30_19-11-21_59760.html\n",
      "<IPython.lib.display.IFrame object at 0x000001F908ABD6D0>\n",
      "Log file saved to: c:\\Users\\HUAWEI\\CanterburyCommuto\\example\\CanterburyCommuto\\results\\route_output.log\n"
     ]
    }
   ],
   "source": [
    "!python -m canterburycommuto overlap origin_destination_coordinates.csv \\\n",
    "    --threshold 60 \\\n",
    "    --width 120 \\\n",
    "    --buffer 150 \\\n",
    "    --approximation \"no\" \\\n",
    "    --commuting_info \"yes\" \\\n",
    "    --colorna \"home_A\" \\\n",
    "    --coldesta \"work_A\" \\\n",
    "    --colorib \"home_B\" \\\n",
    "    --colfestb \"work_B\" \\\n",
    "    --output_overlap \"route_output.csv\" \\\n",
    "    --output_buffer \"buffer_output.csv\" \\\n",
    "    --skip_invalid True \\\n",
    "    --save_api_info \\\n",
    "    --yes"
   ]
  },
  {
   "cell_type": "markdown",
   "id": "a33b5f2a",
   "metadata": {},
   "source": [
    "This approach helps keep your credentials out of the command history and simplifies repeated usage."
   ]
  },
  {
   "cell_type": "markdown",
   "id": "0b59e84a-0cf1-4041-b526-a2c52dd0c0f4",
   "metadata": {},
   "source": [
    "Common Node method (only overlapping information)"
   ]
  },
  {
   "cell_type": "code",
   "execution_count": 10,
   "id": "0f400887-fbb5-4683-a995-84cf3e80cd2d",
   "metadata": {},
   "outputs": [
    {
     "name": "stdout",
     "output_type": "stream",
     "text": [
      "[DEBUG] Checking for config.yaml in: c:\\Users\\HUAWEI\\CanterburyCommuto\\example\\CanterburyCommuto\\config.yaml\n",
      "\n",
      "[INFO] Estimated number of API requests: 19\n",
      "[INFO] Estimated cost: $0.10\n",
      "[NOTICE] Actual cost may be higher or lower depending on Google’s pricing tiers and route pair complexity.\n",
      "\n",
      "[AUTO-CONFIRM] Skipping user prompt and proceeding...\n",
      "\n",
      "[PROCESSING] Proceeding with route analysis...\n",
      "\n",
      "Map saved to: c:\\Users\\HUAWEI\\CanterburyCommuto\\example\\CanterburyCommuto\\results\\routes_map-2025-05-30_19-11-40_90647.html\n",
      "<IPython.lib.display.IFrame object at 0x0000022997EBE0C0>\n",
      "Map saved to: c:\\Users\\HUAWEI\\CanterburyCommuto\\example\\CanterburyCommuto\\results\\routes_map-2025-05-30_19-11-40_76418.html\n",
      "<IPython.lib.display.IFrame object at 0x0000022997EBC830>\n",
      "Map saved to: c:\\Users\\HUAWEI\\CanterburyCommuto\\example\\CanterburyCommuto\\results\\routes_map-2025-05-30_19-11-40_39532.html\n",
      "<IPython.lib.display.IFrame object at 0x0000022997E8D6A0>\n",
      "Map saved to: c:\\Users\\HUAWEI\\CanterburyCommuto\\example\\CanterburyCommuto\\results\\routes_map-2025-05-30_19-11-40_60141.html\n",
      "<IPython.lib.display.IFrame object at 0x0000022997E8DB50>\n",
      "Map saved to: c:\\Users\\HUAWEI\\CanterburyCommuto\\example\\CanterburyCommuto\\results\\routes_map-2025-05-30_19-11-40_92807.html\n",
      "<IPython.lib.display.IFrame object at 0x0000022997E53B30>\n",
      "Map saved to: c:\\Users\\HUAWEI\\CanterburyCommuto\\example\\CanterburyCommuto\\results\\routes_map-2025-05-30_19-11-40_25393.html\n",
      "<IPython.lib.display.IFrame object at 0x0000022997DD1B50>\n",
      "Map saved to: c:\\Users\\HUAWEI\\CanterburyCommuto\\example\\CanterburyCommuto\\results\\routes_map-2025-05-30_19-11-40_53913.html\n",
      "<IPython.lib.display.IFrame object at 0x0000022997DD35F0>\n",
      "Log file saved to: c:\\Users\\HUAWEI\\CanterburyCommuto\\example\\CanterburyCommuto\\results\\route_only_output.log\n"
     ]
    }
   ],
   "source": [
    "!python -m canterburycommuto overlap origin_destination_coordinates.csv \\\n",
    "    --threshold 60 \\\n",
    "    --width 120 \\\n",
    "    --buffer 150 \\\n",
    "    --approximation \"no\" \\\n",
    "    --commuting_info \"no\" \\\n",
    "    --colorna \"home_A\" \\\n",
    "    --coldesta \"work_A\" \\\n",
    "    --colorib \"home_B\" \\\n",
    "    --colfestb \"work_B\" \\\n",
    "    --output_overlap \"route_only_output.csv\" \\\n",
    "    --output_buffer \"buffer_output.csv\" \\\n",
    "    --skip_invalid True \\\n",
    "    --save_api_info \\\n",
    "    --yes"
   ]
  },
  {
   "cell_type": "markdown",
   "id": "1e26bef2-3f7c-430a-8e81-13f38f3b15bb",
   "metadata": {},
   "source": [
    "Rectangle Approximation method with commuting information before and after the overlap. The approximation threshold is 60% for the overlaps of rectangles contructed along the segments before and after the overlap. The rectangles' have the same width: 120 meters."
   ]
  },
  {
   "cell_type": "code",
   "execution_count": 11,
   "id": "6fb66cff-d103-4f27-8180-528141a2c7be",
   "metadata": {},
   "outputs": [
    {
     "name": "stdout",
     "output_type": "stream",
     "text": [
      "[DEBUG] Checking for config.yaml in: c:\\Users\\HUAWEI\\CanterburyCommuto\\example\\CanterburyCommuto\\config.yaml\n",
      "\n",
      "[INFO] Estimated number of API requests: 43\n",
      "[INFO] Estimated cost: $0.21\n",
      "[NOTICE] Actual cost may be higher or lower depending on Google’s pricing tiers and route pair complexity.\n",
      "\n",
      "[AUTO-CONFIRM] Skipping user prompt and proceeding...\n",
      "\n",
      "[PROCESSING] Proceeding with route analysis...\n",
      "\n",
      "Map saved to: c:\\Users\\HUAWEI\\CanterburyCommuto\\example\\CanterburyCommuto\\results\\routes_map-2025-05-30_19-11-49_93550.html\n",
      "<IPython.lib.display.IFrame object at 0x00000222E5BAD9D0>\n",
      "Map saved to: c:\\Users\\HUAWEI\\CanterburyCommuto\\example\\CanterburyCommuto\\results\\routes_map-2025-05-30_19-11-49_86961.html\n",
      "<IPython.lib.display.IFrame object at 0x00000222E584D580>\n",
      "Map saved to: c:\\Users\\HUAWEI\\CanterburyCommuto\\example\\CanterburyCommuto\\results\\routes_map-2025-05-30_19-11-51_67695.html\n",
      "<IPython.lib.display.IFrame object at 0x00000222E5B43C80>\n",
      "Map saved to: c:\\Users\\HUAWEI\\CanterburyCommuto\\example\\CanterburyCommuto\\results\\routes_map-2025-05-30_19-11-51_38797.html\n",
      "<IPython.lib.display.IFrame object at 0x00000222E5D41C40>\n",
      "Map saved to: c:\\Users\\HUAWEI\\CanterburyCommuto\\example\\CanterburyCommuto\\results\\routes_map-2025-05-30_19-11-51_41325.html\n",
      "<IPython.lib.display.IFrame object at 0x00000222E5AF0BF0>\n",
      "Map saved to: c:\\Users\\HUAWEI\\CanterburyCommuto\\example\\CanterburyCommuto\\results\\routes_map-2025-05-30_19-11-51_91306.html\n",
      "<IPython.lib.display.IFrame object at 0x00000222E5BDF9E0>\n",
      "Map saved to: c:\\Users\\HUAWEI\\CanterburyCommuto\\example\\CanterburyCommuto\\results\\routes_map-2025-05-30_19-11-51_17008.html\n",
      "<IPython.lib.display.IFrame object at 0x00000222E5B43350>\n",
      "Log file saved to: c:\\Users\\HUAWEI\\CanterburyCommuto\\example\\CanterburyCommuto\\results\\rec_output.log\n"
     ]
    }
   ],
   "source": [
    "!python -m canterburycommuto overlap origin_destination_coordinates.csv \\\n",
    "    --threshold 60 \\\n",
    "    --width 120 \\\n",
    "    --buffer 150 \\\n",
    "    --approximation \"yes\" \\\n",
    "    --commuting_info \"yes\" \\\n",
    "    --colorna \"home_A\" \\\n",
    "    --coldesta \"work_A\" \\\n",
    "    --colorib \"home_B\" \\\n",
    "    --colfestb \"work_B\" \\\n",
    "    --output_overlap \"rec_output.csv\" \\\n",
    "    --output_buffer \"buffer_output.csv\" \\\n",
    "    --skip_invalid True \\\n",
    "    --save_api_info \\\n",
    "    --yes"
   ]
  },
  {
   "cell_type": "markdown",
   "id": "54f7aa01-07ca-49e0-9296-e23eeb506390",
   "metadata": {},
   "source": [
    "Rectangle Approximation method (only overlapping information)"
   ]
  },
  {
   "cell_type": "code",
   "execution_count": 12,
   "id": "f0bbaa5c-9e3c-496b-a20b-a581c86455b6",
   "metadata": {},
   "outputs": [
    {
     "name": "stdout",
     "output_type": "stream",
     "text": [
      "[DEBUG] Checking for config.yaml in: c:\\Users\\HUAWEI\\CanterburyCommuto\\example\\CanterburyCommuto\\config.yaml\n",
      "\n",
      "[INFO] Estimated number of API requests: 25\n",
      "[INFO] Estimated cost: $0.12\n",
      "[NOTICE] Actual cost may be higher or lower depending on Google’s pricing tiers and route pair complexity.\n",
      "\n",
      "[AUTO-CONFIRM] Skipping user prompt and proceeding...\n",
      "\n",
      "[PROCESSING] Proceeding with route analysis...\n",
      "\n",
      "Map saved to: c:\\Users\\HUAWEI\\CanterburyCommuto\\example\\CanterburyCommuto\\results\\routes_map-2025-05-30_19-11-59_35707.html\n",
      "<IPython.lib.display.IFrame object at 0x0000020E196C1670>\n",
      "Map saved to: c:\\Users\\HUAWEI\\CanterburyCommuto\\example\\CanterburyCommuto\\results\\routes_map-2025-05-30_19-11-59_61670.html\n",
      "<IPython.lib.display.IFrame object at 0x0000020E1964CFE0>\n",
      "Map saved to: c:\\Users\\HUAWEI\\CanterburyCommuto\\example\\CanterburyCommuto\\results\\routes_map-2025-05-30_19-11-59_71050.html\n",
      "<IPython.lib.display.IFrame object at 0x0000020E1961F140>\n",
      "Map saved to: c:\\Users\\HUAWEI\\CanterburyCommuto\\example\\CanterburyCommuto\\results\\routes_map-2025-05-30_19-12-00_96344.html\n",
      "<IPython.lib.display.IFrame object at 0x0000020E1980C260>\n",
      "Map saved to: c:\\Users\\HUAWEI\\CanterburyCommuto\\example\\CanterburyCommuto\\results\\routes_map-2025-05-30_19-12-00_45195.html\n",
      "<IPython.lib.display.IFrame object at 0x0000020E1980D760>\n",
      "Map saved to: c:\\Users\\HUAWEI\\CanterburyCommuto\\example\\CanterburyCommuto\\results\\routes_map-2025-05-30_19-12-00_90601.html\n",
      "<IPython.lib.display.IFrame object at 0x0000020E19692420>\n",
      "Map saved to: c:\\Users\\HUAWEI\\CanterburyCommuto\\example\\CanterburyCommuto\\results\\routes_map-2025-05-30_19-12-00_12531.html\n",
      "<IPython.lib.display.IFrame object at 0x0000020E196C0CE0>\n",
      "Log file saved to: c:\\Users\\HUAWEI\\CanterburyCommuto\\example\\CanterburyCommuto\\results\\rec_only_output.log\n"
     ]
    }
   ],
   "source": [
    "!python -m canterburycommuto overlap origin_destination_coordinates.csv \\\n",
    "    --threshold 60 \\\n",
    "    --width 120 \\\n",
    "    --buffer 150 \\\n",
    "    --approximation \"yes\" \\\n",
    "    --commuting_info \"no\" \\\n",
    "    --colorna \"home_A\" \\\n",
    "    --coldesta \"work_A\" \\\n",
    "    --colorib \"home_B\" \\\n",
    "    --colfestb \"work_B\" \\\n",
    "    --output_overlap \"rec_only_output.csv\" \\\n",
    "    --output_buffer \"buffer_output.csv\" \\\n",
    "    --skip_invalid True \\\n",
    "    --save_api_info \\\n",
    "    --yes"
   ]
  },
  {
   "cell_type": "markdown",
   "id": "58a5227b-5b17-4116-a0e9-b1ef920e4af5",
   "metadata": {},
   "source": [
    "Buffer Area Ratio method, as described in README.md; buffer length is 150 meters."
   ]
  },
  {
   "cell_type": "code",
   "execution_count": 13,
   "id": "a266f6f3-8159-4bcd-98fa-51cb7e292ec9",
   "metadata": {},
   "outputs": [
    {
     "name": "stdout",
     "output_type": "stream",
     "text": [
      "[DEBUG] Checking for config.yaml in: c:\\Users\\HUAWEI\\CanterburyCommuto\\example\\CanterburyCommuto\\config.yaml\n",
      "\n",
      "[INFO] Estimated number of API requests: 13\n",
      "[INFO] Estimated cost: $0.07\n",
      "[NOTICE] Actual cost may be higher or lower depending on Google’s pricing tiers and route pair complexity.\n",
      "\n",
      "[AUTO-CONFIRM] Skipping user prompt and proceeding...\n",
      "\n",
      "[PROCESSING] Proceeding with route analysis...\n",
      "\n",
      "Map saved to: c:\\Users\\HUAWEI\\CanterburyCommuto\\example\\CanterburyCommuto\\results\\routes_with_buffers_map-2025-05-30_19-13-17_19256.html\n",
      "<IPython.lib.display.IFrame object at 0x000001E603A25130>\n",
      "Map has been displayed inline and saved as 'results\\routes_with_buffers_map-2025-05-30_19-13-17_19256.html'.\n",
      "Map saved to: c:\\Users\\HUAWEI\\CanterburyCommuto\\example\\CanterburyCommuto\\results\\routes_with_buffers_map-2025-05-30_19-13-17_83330.html\n",
      "<IPython.lib.display.IFrame object at 0x000001E603A272C0>\n",
      "Map has been displayed inline and saved as 'results\\routes_with_buffers_map-2025-05-30_19-13-17_83330.html'.\n",
      "Map saved to: c:\\Users\\HUAWEI\\CanterburyCommuto\\example\\CanterburyCommuto\\results\\routes_with_buffers_map-2025-05-30_19-13-17_84227.html\n",
      "<IPython.lib.display.IFrame object at 0x000001E6039F43B0>\n",
      "Map has been displayed inline and saved as 'results\\routes_with_buffers_map-2025-05-30_19-13-17_84227.html'.\n",
      "Map saved to: c:\\Users\\HUAWEI\\CanterburyCommuto\\example\\CanterburyCommuto\\results\\routes_with_buffers_map-2025-05-30_19-13-17_94120.html\n",
      "<IPython.lib.display.IFrame object at 0x000001E603B4AC00>\n",
      "Map has been displayed inline and saved as 'results\\routes_with_buffers_map-2025-05-30_19-13-17_94120.html'.\n",
      "Map saved to: c:\\Users\\HUAWEI\\CanterburyCommuto\\example\\CanterburyCommuto\\results\\routes_with_buffers_map-2025-05-30_19-13-17_86615.html\n",
      "<IPython.lib.display.IFrame object at 0x000001E603B90C20>\n",
      "Map has been displayed inline and saved as 'results\\routes_with_buffers_map-2025-05-30_19-13-17_86615.html'.\n",
      "Map saved to: c:\\Users\\HUAWEI\\CanterburyCommuto\\example\\CanterburyCommuto\\results\\routes_with_buffers_map-2025-05-30_19-13-17_61195.html\n",
      "<IPython.lib.display.IFrame object at 0x000001E603B92EA0>\n",
      "Map has been displayed inline and saved as 'results\\routes_with_buffers_map-2025-05-30_19-13-17_61195.html'.\n",
      "Map saved to: c:\\Users\\HUAWEI\\CanterburyCommuto\\example\\CanterburyCommuto\\results\\routes_with_buffers_map-2025-05-30_19-13-17_89638.html\n",
      "<IPython.lib.display.IFrame object at 0x000001E603BFC770>\n",
      "Map has been displayed inline and saved as 'results\\routes_with_buffers_map-2025-05-30_19-13-17_89638.html'.\n",
      "Log file saved to: c:\\Users\\HUAWEI\\CanterburyCommuto\\example\\CanterburyCommuto\\results\\buffer_output.log\n"
     ]
    }
   ],
   "source": [
    "!python -m canterburycommuto overlap origin_destination_coordinates.csv \\\n",
    "    --threshold 60 \\\n",
    "    --width 120 \\\n",
    "    --buffer 150 \\\n",
    "    --approximation \"yes with buffer\" \\\n",
    "    --commuting_info \"yes\" \\\n",
    "    --colorna \"home_A\" \\\n",
    "    --coldesta \"work_A\" \\\n",
    "    --colorib \"home_B\" \\\n",
    "    --colfestb \"work_B\" \\\n",
    "    --output_overlap \"buffer_percentage_output.csv\" \\\n",
    "    --output_buffer \"buffer_output.csv\" \\\n",
    "    --skip_invalid True \\\n",
    "    --save_api_info \\\n",
    "    --yes"
   ]
  },
  {
   "cell_type": "markdown",
   "id": "113476d0-9504-4dc7-8820-d3fe221b7e5c",
   "metadata": {},
   "source": [
    "Buffer Route Node mehod with commuting information before and after the overlap. Uses the closest route nodes to the intersection points between the routes and the overlapping buffer polygon and with commuting information before and after the overlap"
   ]
  },
  {
   "cell_type": "code",
   "execution_count": 14,
   "id": "392c35a7-f091-4e4c-a7fc-383fe1e374a0",
   "metadata": {},
   "outputs": [
    {
     "name": "stdout",
     "output_type": "stream",
     "text": [
      "[DEBUG] Checking for config.yaml in: c:\\Users\\HUAWEI\\CanterburyCommuto\\example\\CanterburyCommuto\\config.yaml\n",
      "\n",
      "[INFO] Estimated number of API requests: 49\n",
      "[INFO] Estimated cost: $0.24\n",
      "[NOTICE] Actual cost may be higher or lower depending on Google’s pricing tiers and route pair complexity.\n",
      "\n",
      "[AUTO-CONFIRM] Skipping user prompt and proceeding...\n",
      "\n",
      "[PROCESSING] Proceeding with route analysis...\n",
      "\n",
      "Map saved to: c:\\Users\\HUAWEI\\CanterburyCommuto\\example\\CanterburyCommuto\\results\\routes_with_buffers_map-2025-05-30_19-13-32_59935.html\n",
      "<IPython.lib.display.IFrame object at 0x000002BDA1D96780>\n",
      "Map has been displayed inline and saved as 'results\\routes_with_buffers_map-2025-05-30_19-13-32_59935.html'.\n",
      "Map saved to: c:\\Users\\HUAWEI\\CanterburyCommuto\\example\\CanterburyCommuto\\results\\routes_with_buffers_map-2025-05-30_19-13-32_57307.html\n",
      "<IPython.lib.display.IFrame object at 0x000002BDA1D97D70>\n",
      "Map has been displayed inline and saved as 'results\\routes_with_buffers_map-2025-05-30_19-13-32_57307.html'.\n",
      "Map saved to: c:\\Users\\HUAWEI\\CanterburyCommuto\\example\\CanterburyCommuto\\results\\routes_with_buffers_map-2025-05-30_19-13-32_96600.htmlMap saved to: c:\\Users\\HUAWEI\\CanterburyCommuto\\example\\CanterburyCommuto\\results\\routes_with_buffers_map-2025-05-30_19-13-32_35677.html\n",
      "\n",
      "<IPython.lib.display.IFrame object at 0x000002BDA1ECF230>\n",
      "Map has been displayed inline and saved as 'results\\routes_with_buffers_map-2025-05-30_19-13-32_35677.html'.\n",
      "<IPython.lib.display.IFrame object at 0x000002BDA1ECF5C0>\n",
      "Map has been displayed inline and saved as 'results\\routes_with_buffers_map-2025-05-30_19-13-32_96600.html'.\n",
      "Map saved to: c:\\Users\\HUAWEI\\CanterburyCommuto\\example\\CanterburyCommuto\\results\\routes_with_buffers_map-2025-05-30_19-13-32_94174.html\n",
      "<IPython.lib.display.IFrame object at 0x000002BDA1F09430>\n",
      "Map has been displayed inline and saved as 'results\\routes_with_buffers_map-2025-05-30_19-13-32_94174.html'.\n",
      "Map saved to: c:\\Users\\HUAWEI\\CanterburyCommuto\\example\\CanterburyCommuto\\results\\routes_with_buffers_map-2025-05-30_19-13-32_11917.html\n",
      "<IPython.lib.display.IFrame object at 0x000002BDA1F0BE30>\n",
      "Map has been displayed inline and saved as 'results\\routes_with_buffers_map-2025-05-30_19-13-32_11917.html'.\n",
      "Map saved to: c:\\Users\\HUAWEI\\CanterburyCommuto\\example\\CanterburyCommuto\\results\\routes_with_buffers_map-2025-05-30_19-13-32_34559.html\n",
      "<IPython.lib.display.IFrame object at 0x000002BDA1F08A70>\n",
      "Map has been displayed inline and saved as 'results\\routes_with_buffers_map-2025-05-30_19-13-32_34559.html'.\n",
      "Log file saved to: c:\\Users\\HUAWEI\\CanterburyCommuto\\example\\CanterburyCommuto\\results\\closest_node.log\n"
     ]
    }
   ],
   "source": [
    "!python -m canterburycommuto overlap origin_destination_coordinates.csv \\\n",
    "    --threshold 50 \\\n",
    "    --width 100 \\\n",
    "    --buffer 100 \\\n",
    "    --approximation \"closer to precision\" \\\n",
    "    --commuting_info \"yes\" \\\n",
    "    --colorna \"home_A\" \\\n",
    "    --coldesta \"work_A\" \\\n",
    "    --colorib \"home_B\" \\\n",
    "    --colfestb \"work_B\" \\\n",
    "    --output_overlap \"closest_node_output.csv\" \\\n",
    "    --output_buffer \"closest_node.csv\" \\\n",
    "    --skip_invalid True \\\n",
    "    --save_api_info \\\n",
    "    --yes"
   ]
  },
  {
   "cell_type": "markdown",
   "id": "40f02a3b-bc54-440c-8e54-d9615038ef1b",
   "metadata": {},
   "source": [
    "Buffer Route Node mehod (only overlapping information). Uses the closest route nodes to the intersection points between the routes and the overlapping buffer polygon and but without commuting information before and after the overlap"
   ]
  },
  {
   "cell_type": "code",
   "execution_count": 15,
   "id": "306c13ad-2428-4ce4-9997-4e84ba66a7c9",
   "metadata": {},
   "outputs": [
    {
     "name": "stdout",
     "output_type": "stream",
     "text": [
      "[DEBUG] Checking for config.yaml in: c:\\Users\\HUAWEI\\CanterburyCommuto\\example\\CanterburyCommuto\\config.yaml\n",
      "\n",
      "[INFO] Estimated number of API requests: 25\n",
      "[INFO] Estimated cost: $0.12\n",
      "[NOTICE] Actual cost may be higher or lower depending on Google’s pricing tiers and route pair complexity.\n",
      "\n",
      "[AUTO-CONFIRM] Skipping user prompt and proceeding...\n",
      "\n",
      "[PROCESSING] Proceeding with route analysis...\n",
      "\n",
      "Map saved to: c:\\Users\\HUAWEI\\CanterburyCommuto\\example\\CanterburyCommuto\\results\\routes_with_buffers_map-2025-05-30_19-13-52_85874.html\n",
      "<IPython.lib.display.IFrame object at 0x0000023E42428FE0>\n",
      "Map has been displayed inline and saved as 'results\\routes_with_buffers_map-2025-05-30_19-13-52_85874.html'.\n",
      "Map saved to: c:\\Users\\HUAWEI\\CanterburyCommuto\\example\\CanterburyCommuto\\results\\routes_with_buffers_map-2025-05-30_19-13-52_60601.html\n",
      "<IPython.lib.display.IFrame object at 0x0000023E42452E70>\n",
      "Map has been displayed inline and saved as 'results\\routes_with_buffers_map-2025-05-30_19-13-52_60601.html'.\n",
      "Map saved to: c:\\Users\\HUAWEI\\CanterburyCommuto\\example\\CanterburyCommuto\\results\\routes_with_buffers_map-2025-05-30_19-13-52_68797.html\n",
      "<IPython.lib.display.IFrame object at 0x0000023E425AEFF0>\n",
      "Map has been displayed inline and saved as 'results\\routes_with_buffers_map-2025-05-30_19-13-52_68797.html'.\n",
      "Map saved to: c:\\Users\\HUAWEI\\CanterburyCommuto\\example\\CanterburyCommuto\\results\\routes_with_buffers_map-2025-05-30_19-13-52_65510.html\n",
      "<IPython.lib.display.IFrame object at 0x0000023E425CD160>\n",
      "Map has been displayed inline and saved as 'results\\routes_with_buffers_map-2025-05-30_19-13-52_65510.html'.\n",
      "Map saved to: c:\\Users\\HUAWEI\\CanterburyCommuto\\example\\CanterburyCommuto\\results\\routes_with_buffers_map-2025-05-30_19-13-52_86234.html\n",
      "<IPython.lib.display.IFrame object at 0x0000023E425CD430>\n",
      "Map has been displayed inline and saved as 'results\\routes_with_buffers_map-2025-05-30_19-13-52_86234.html'.\n",
      "Map saved to: c:\\Users\\HUAWEI\\CanterburyCommuto\\example\\CanterburyCommuto\\results\\routes_with_buffers_map-2025-05-30_19-13-52_45788.html\n",
      "<IPython.lib.display.IFrame object at 0x0000023E426005F0>\n",
      "Map has been displayed inline and saved as 'results\\routes_with_buffers_map-2025-05-30_19-13-52_45788.html'.\n",
      "Map saved to: c:\\Users\\HUAWEI\\CanterburyCommuto\\example\\CanterburyCommuto\\results\\routes_with_buffers_map-2025-05-30_19-13-52_27199.html\n",
      "<IPython.lib.display.IFrame object at 0x0000023E425CD4C0>\n",
      "Map has been displayed inline and saved as 'results\\routes_with_buffers_map-2025-05-30_19-13-52_27199.html'.\n",
      "Log file saved to: c:\\Users\\HUAWEI\\CanterburyCommuto\\example\\CanterburyCommuto\\results\\closest_node_only.log\n"
     ]
    }
   ],
   "source": [
    "!python -m canterburycommuto overlap origin_destination_coordinates.csv \\\n",
    "    --threshold 50 \\\n",
    "    --width 100 \\\n",
    "    --buffer 100 \\\n",
    "    --approximation \"closer to precision\" \\\n",
    "    --commuting_info \"no\" \\\n",
    "    --colorna \"home_A\" \\\n",
    "    --coldesta \"work_A\" \\\n",
    "    --colorib \"home_B\" \\\n",
    "    --colfestb \"work_B\" \\\n",
    "    --output_overlap \"closest_node_only_output.csv\" \\\n",
    "    --output_buffer \"closest_node_only.csv\" \\\n",
    "    --skip_invalid True \\\n",
    "    --save_api_info \\\n",
    "    --yes"
   ]
  },
  {
   "cell_type": "markdown",
   "id": "5b8f7611-6424-4272-a3d0-686a9e62eb76",
   "metadata": {},
   "source": [
    "Buffer Route Intersection method with commuting information before and after the overlap. Uses the precise geometric intersection of the road and buffer intersection polygon and with commuting info before and after the overlap"
   ]
  },
  {
   "cell_type": "code",
   "execution_count": 16,
   "id": "f7850eec-a5e4-4f1d-aa42-db1085e246a9",
   "metadata": {},
   "outputs": [
    {
     "name": "stdout",
     "output_type": "stream",
     "text": [
      "[DEBUG] Checking for config.yaml in: c:\\Users\\HUAWEI\\CanterburyCommuto\\example\\CanterburyCommuto\\config.yaml\n",
      "\n",
      "[INFO] Estimated number of API requests: 49\n",
      "[INFO] Estimated cost: $0.24\n",
      "[NOTICE] Actual cost may be higher or lower depending on Google’s pricing tiers and route pair complexity.\n",
      "\n",
      "[AUTO-CONFIRM] Skipping user prompt and proceeding...\n",
      "\n",
      "[PROCESSING] Proceeding with route analysis...\n",
      "\n",
      "Map saved to: c:\\Users\\HUAWEI\\CanterburyCommuto\\example\\CanterburyCommuto\\results\\routes_with_buffers_map-2025-05-30_19-14-06_34978.html\n",
      "<IPython.lib.display.IFrame object at 0x00000186661FE4E0>\n",
      "Map has been displayed inline and saved as 'results\\routes_with_buffers_map-2025-05-30_19-14-06_34978.html'.\n",
      "Map saved to: c:\\Users\\HUAWEI\\CanterburyCommuto\\example\\CanterburyCommuto\\results\\routes_with_buffers_map-2025-05-30_19-14-06_66424.html\n",
      "<IPython.lib.display.IFrame object at 0x00000186663615E0>Map saved to: c:\\Users\\HUAWEI\\CanterburyCommuto\\example\\CanterburyCommuto\\results\\routes_with_buffers_map-2025-05-30_19-14-06_15269.html\n",
      "Map has been displayed inline and saved as 'results\\routes_with_buffers_map-2025-05-30_19-14-06_66424.html'.\n",
      "<IPython.lib.display.IFrame object at 0x00000186663615E0>\n",
      "Map has been displayed inline and saved as 'results\\routes_with_buffers_map-2025-05-30_19-14-06_15269.html'.\n",
      "\n",
      "Map saved to: c:\\Users\\HUAWEI\\CanterburyCommuto\\example\\CanterburyCommuto\\results\\routes_with_buffers_map-2025-05-30_19-14-06_98951.html\n",
      "<IPython.lib.display.IFrame object at 0x00000186663615E0>\n",
      "Map has been displayed inline and saved as 'results\\routes_with_buffers_map-2025-05-30_19-14-06_98951.html'.\n",
      "Map saved to: c:\\Users\\HUAWEI\\CanterburyCommuto\\example\\CanterburyCommuto\\results\\routes_with_buffers_map-2025-05-30_19-14-06_24062.html\n",
      "<IPython.lib.display.IFrame object at 0x000001866638C110>\n",
      "Map has been displayed inline and saved as 'results\\routes_with_buffers_map-2025-05-30_19-14-06_24062.html'.\n",
      "Map saved to: c:\\Users\\HUAWEI\\CanterburyCommuto\\example\\CanterburyCommuto\\results\\routes_with_buffers_map-2025-05-30_19-14-06_59169.html\n",
      "<IPython.lib.display.IFrame object at 0x0000018666362C00>\n",
      "Map has been displayed inline and saved as 'results\\routes_with_buffers_map-2025-05-30_19-14-06_59169.html'.\n",
      "Map saved to: c:\\Users\\HUAWEI\\CanterburyCommuto\\example\\CanterburyCommuto\\results\\routes_with_buffers_map-2025-05-30_19-14-06_53448.html\n",
      "<IPython.lib.display.IFrame object at 0x0000018666362C00>\n",
      "Map has been displayed inline and saved as 'results\\routes_with_buffers_map-2025-05-30_19-14-06_53448.html'.\n",
      "Log file saved to: c:\\Users\\HUAWEI\\CanterburyCommuto\\example\\CanterburyCommuto\\results\\exact.log\n"
     ]
    }
   ],
   "source": [
    "!python -m canterburycommuto overlap origin_destination_coordinates.csv \\\n",
    "    --threshold 50 \\\n",
    "    --width 100 \\\n",
    "    --buffer 100 \\\n",
    "    --approximation \"exact\" \\\n",
    "    --commuting_info \"yes\" \\\n",
    "    --colorna \"home_A\" \\\n",
    "    --coldesta \"work_A\" \\\n",
    "    --colorib \"home_B\" \\\n",
    "    --colfestb \"work_B\" \\\n",
    "    --output_overlap \"exact_output.csv\" \\\n",
    "    --output_buffer \"exact.csv\" \\\n",
    "    --skip_invalid True \\\n",
    "    --save_api_info \\\n",
    "    --yes"
   ]
  },
  {
   "cell_type": "markdown",
   "id": "3ffd076f-fa2b-40f0-93c7-f8eeaeadf0fb",
   "metadata": {},
   "source": [
    "Buffer Route Intersection method (only overlapping information). Uses the precise geometric intersection of the road and buffer intersection polygon, but without commuting information before and after the overlap"
   ]
  },
  {
   "cell_type": "code",
   "execution_count": 17,
   "id": "cfc19160-425d-4af7-a7bc-cc37cacae908",
   "metadata": {},
   "outputs": [
    {
     "name": "stdout",
     "output_type": "stream",
     "text": [
      "[DEBUG] Checking for config.yaml in: c:\\Users\\HUAWEI\\CanterburyCommuto\\example\\CanterburyCommuto\\config.yaml\n",
      "\n",
      "[INFO] Estimated number of API requests: 25\n",
      "[INFO] Estimated cost: $0.12\n",
      "[NOTICE] Actual cost may be higher or lower depending on Google’s pricing tiers and route pair complexity.\n",
      "\n",
      "[AUTO-CONFIRM] Skipping user prompt and proceeding...\n",
      "\n",
      "[PROCESSING] Proceeding with route analysis...\n",
      "\n",
      "Map saved to: c:\\Users\\HUAWEI\\CanterburyCommuto\\example\\CanterburyCommuto\\results\\routes_with_buffers_map-2025-05-30_19-14-23_25791.html\n",
      "<IPython.lib.display.IFrame object at 0x000002BD062FC530>\n",
      "Map has been displayed inline and saved as 'results\\routes_with_buffers_map-2025-05-30_19-14-23_25791.html'.\n",
      "Map saved to: c:\\Users\\HUAWEI\\CanterburyCommuto\\example\\CanterburyCommuto\\results\\routes_with_buffers_map-2025-05-30_19-14-23_41497.html\n",
      "<IPython.lib.display.IFrame object at 0x000002BD062CEC30>\n",
      "Map has been displayed inline and saved as 'results\\routes_with_buffers_map-2025-05-30_19-14-23_41497.html'.\n",
      "Map saved to: c:\\Users\\HUAWEI\\CanterburyCommuto\\example\\CanterburyCommuto\\results\\routes_with_buffers_map-2025-05-30_19-14-23_19988.html\n",
      "<IPython.lib.display.IFrame object at 0x000002BD06431A00>\n",
      "Map has been displayed inline and saved as 'results\\routes_with_buffers_map-2025-05-30_19-14-23_19988.html'.\n",
      "Map saved to: c:\\Users\\HUAWEI\\CanterburyCommuto\\example\\CanterburyCommuto\\results\\routes_with_buffers_map-2025-05-30_19-14-23_23478.htmlMap saved to: c:\\Users\\HUAWEI\\CanterburyCommuto\\example\\CanterburyCommuto\\results\\routes_with_buffers_map-2025-05-30_19-14-23_83145.html\n",
      "<IPython.lib.display.IFrame object at 0x000002BD064330E0>\n",
      "Map has been displayed inline and saved as 'results\\routes_with_buffers_map-2025-05-30_19-14-23_83145.html'.\n",
      "\n",
      "<IPython.lib.display.IFrame object at 0x000002BD0622EB40>\n",
      "Map has been displayed inline and saved as 'results\\routes_with_buffers_map-2025-05-30_19-14-23_23478.html'.\n",
      "Map saved to: c:\\Users\\HUAWEI\\CanterburyCommuto\\example\\CanterburyCommuto\\results\\routes_with_buffers_map-2025-05-30_19-14-23_70429.html\n",
      "<IPython.lib.display.IFrame object at 0x000002BD0647ADB0>\n",
      "Map has been displayed inline and saved as 'results\\routes_with_buffers_map-2025-05-30_19-14-23_70429.html'.\n",
      "Map saved to: c:\\Users\\HUAWEI\\CanterburyCommuto\\example\\CanterburyCommuto\\results\\routes_with_buffers_map-2025-05-30_19-14-23_89161.html\n",
      "<IPython.lib.display.IFrame object at 0x000002BD062FE990>\n",
      "Map has been displayed inline and saved as 'results\\routes_with_buffers_map-2025-05-30_19-14-23_89161.html'.\n",
      "Log file saved to: c:\\Users\\HUAWEI\\CanterburyCommuto\\example\\CanterburyCommuto\\results\\exact_only.log\n"
     ]
    }
   ],
   "source": [
    "!python -m canterburycommuto overlap origin_destination_coordinates.csv \\\n",
    "    --threshold 50 \\\n",
    "    --width 100 \\\n",
    "    --buffer 100 \\\n",
    "    --approximation \"exact\" \\\n",
    "    --commuting_info \"no\" \\\n",
    "    --colorna \"home_A\" \\\n",
    "    --coldesta \"work_A\" \\\n",
    "    --colorib \"home_B\" \\\n",
    "    --colfestb \"work_B\" \\\n",
    "    --output_overlap \"exact_only_output.csv\" \\\n",
    "    --output_buffer \"exact_only.csv\" \\\n",
    "    --skip_invalid True \\\n",
    "    --save_api_info \\\n",
    "    --yes"
   ]
  }
 ],
 "metadata": {
  "kernelspec": {
   "display_name": "base",
   "language": "python",
   "name": "python3"
  },
  "language_info": {
   "codemirror_mode": {
    "name": "ipython",
    "version": 3
   },
   "file_extension": ".py",
   "mimetype": "text/x-python",
   "name": "python",
   "nbconvert_exporter": "python",
   "pygments_lexer": "ipython3",
   "version": "3.12.4"
  }
 },
 "nbformat": 4,
 "nbformat_minor": 5
}
